{
 "cells": [
  {
   "cell_type": "code",
   "execution_count": null,
   "metadata": {
    "id": "nOuO8wFMW3wu"
   },
   "outputs": [],
   "source": [
    "!pip install rdkit\n",
    "!pip install torch\n",
    "!pip install allennlp"
   ]
  },
  {
   "cell_type": "code",
   "execution_count": null,
   "metadata": {
    "id": "cK2D6dVRPkLG"
   },
   "outputs": [],
   "source": [
    "import torch\n",
    "import pickle as pi\n",
    "import pandas as pd\n",
    "import numpy as np\n",
    "import rdkit\n",
    "from rdkit import Chem\n",
    "from rdkit.Chem import Descriptors, rdMolDescriptors\n",
    "import tensorflow as tf"
   ]
  },
  {
   "cell_type": "code",
   "execution_count": null,
   "metadata": {
    "id": "2Sxq8SOUQ-P9"
   },
   "outputs": [],
   "source": [
    "clf = pi.load(open('weights/clf.pkl', 'rb'))"
   ]
  },
  {
   "cell_type": "code",
   "execution_count": null,
   "metadata": {
    "id": "rG0k5YEGSuQz"
   },
   "outputs": [],
   "source": [
    "drug = 'CN1C=NC2=C1C(=O)N(C)C(=O)N2C'"
   ]
  },
  {
   "cell_type": "code",
   "source": [
    "generated_example = 'NC(=O)CN1CCCC1=O'"
   ],
   "metadata": {
    "id": "unPeDIOzOgfN"
   },
   "execution_count": null,
   "outputs": []
  },
  {
   "cell_type": "code",
   "source": [
    "def generate_descriptors(smiles):\n",
    "  \n",
    "  descriptor_names = list(rdMolDescriptors.Properties.GetAvailableProperties())\n",
    "  get_descriptors = rdMolDescriptors.Properties(descriptor_names)\n",
    "  \n",
    "  molecule_object = Chem.MolFromSmiles(smiles)\n",
    "  final_descriptors = np.array(get_descriptors.ComputeProperties(molecule_object)).reshape((-1, 43))\n",
    "\n",
    "  return final_descriptors\n",
    "\n",
    "\n",
    "def get_clf_input(coformer_smiles, drug_smiles=drug):\n",
    "\n",
    "  drug_descriptors, coformer_descriptors = generate_descriptors(drug_smiles), generate_descriptors(coformer_smiles)\n",
    "\n",
    "  final_input = np.concatenate((drug_descriptors, coformer_descriptors), axis=1)\n",
    "\n",
    "  return final_input\n",
    "\n",
    "\n",
    "def calculate_clf_error(coformer_smiles, desired_clf_output=1, drug_smiles=drug, classifier=clf):\n",
    "\n",
    "  clf_input = get_clf_input(coformer_smiles, drug_smiles)\n",
    "  clf_prediction = classifier.predict_proba(clf_input)[:,desired_clf_output]\n",
    "\n",
    "  error = tf.keras.metrics.binary_crossentropy(desired_clf_output, \n",
    "                                               clf_prediction)\n",
    "\n",
    "  return float(error)"
   ],
   "metadata": {
    "id": "Z_iVd-pxa3X3"
   },
   "execution_count": null,
   "outputs": []
  },
  {
   "cell_type": "markdown",
   "metadata": {
    "id": "Vg6G_gG5ck1X"
   },
   "source": [
    "### Объединенная модель"
   ]
  },
  {
   "cell_type": "code",
   "execution_count": null,
   "metadata": {
    "id": "jGEs9chj-2Hv"
   },
   "outputs": [],
   "source": [
    "from model import MolGen"
   ]
  },
  {
   "cell_type": "code",
   "execution_count": null,
   "metadata": {
    "id": "o4hwBvIShYlz"
   },
   "outputs": [],
   "source": [
    "#создание списка SMILES\n",
    "with open('/content/database_cof_100smb_kekule.csv', \"r\") as file:\n",
    "  data = [molecule.replace('\\n', '') for molecule in file]"
   ]
  },
  {
   "cell_type": "code",
   "execution_count": null,
   "outputs": [],
   "source": [
    "#загрузка предобученной только на ChemBL генеративной модели и ее дообучение\n",
    "# gan_mol = pi.load(open('weights/gan_mol7_50ksteps_100symb_kekuke.pkl', 'rb'))\n",
    "gan_mol = MolGen(data=data, clf_path='weights/clf.pkl')\n",
    "gan_mol.load('weights/gan_mol7_50ksteps_100symb_kekuke.pkl')\n",
    "\n",
    "# загрузчик данных для модели\n",
    "loader = gan_mol.create_dataloader(data, batch_size=20, shuffle=True, num_workers=10)"
   ],
   "metadata": {
    "collapsed": false
   }
  },
  {
   "cell_type": "code",
   "execution_count": null,
   "metadata": {
    "id": "EwklxOX8hwOj"
   },
   "outputs": [],
   "source": [
    "# train model for 10000 steps\n",
    "gan_mol.train()"
   ]
  },
  {
   "cell_type": "code",
   "execution_count": null,
   "metadata": {
    "id": "kLyRWJjUxN5a"
   },
   "outputs": [],
   "source": [
    "import warnings #возникает одна и та же ошибка\n",
    "warnings.filterwarnings('ignore')\n",
    "\n",
    "gan_mol.train_n_steps(loader, max_step=1000, evaluate_every=10)"
   ]
  },
  {
   "cell_type": "markdown",
   "metadata": {
    "id": "W74j03r8SWj_"
   },
   "source": [
    "### График измененеие clf loss в процессе обучения"
   ]
  },
  {
   "cell_type": "code",
   "execution_count": null,
   "metadata": {
    "id": "noi90P1GTUsx"
   },
   "outputs": [],
   "source": [
    "import matplotlib.pyplot as plt"
   ]
  },
  {
   "cell_type": "code",
   "execution_count": null,
   "outputs": [],
   "source": [
    "x1 = np.arange(100)\n",
    "x2 = np.arange(100)"
   ],
   "metadata": {
    "collapsed": false
   }
  },
  {
   "cell_type": "code",
   "execution_count": null,
   "metadata": {
    "id": "EoNPydhaTjlL"
   },
   "outputs": [],
   "source": [
    "# построение графика\n",
    "plt.figure(figsize=(15,10))\n",
    "plt.plot(x1, y1, label = \"Предобученная на коформерах модель\")\n",
    "plt.plot(x2, y2, label = \"Предобученной только на ChemBL модель\")\n",
    "plt.title('Изменение clf loss в процессе обучения')\n",
    "plt.xlabel('Итерация обучения')\n",
    "plt.ylabel('clf loss mean')\n",
    "plt.legend()\n",
    "plt.show()"
   ]
  }
 ],
 "metadata": {
  "colab": {
   "collapsed_sections": [
    "w6bnkngncdHR"
   ],
   "provenance": []
  },
  "gpuClass": "premium",
  "kernelspec": {
   "display_name": "Python 3",
   "name": "python3"
  },
  "language_info": {
   "name": "python"
  },
  "accelerator": "GPU"
 },
 "nbformat": 4,
 "nbformat_minor": 0
}

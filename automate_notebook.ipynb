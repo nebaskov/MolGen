{
 "cells": [
  {
   "cell_type": "code",
   "execution_count": null,
   "metadata": {},
   "outputs": [],
   "source": [
    "! pip install rdkit\n",
    "! pip install torch\n",
    "! pip install allennlp"
   ]
  },
  {
   "cell_type": "code",
   "execution_count": null,
   "metadata": {},
   "outputs": [],
   "source": [
    "from google.colab import drive\n",
    "drive.mount('/content/drive')\n",
    "\n",
    "import os\n",
    "os.chdir('/content/drive/MyDrive/MolGen/stable_version')"
   ]
  },
  {
   "cell_type": "code",
   "execution_count": null,
   "metadata": {},
   "outputs": [],
   "source": [
    "import torch\n",
    "import numpy as np\n",
    "import pandas as pd\n",
    "import pickle as pi\n",
    "from rdkit import Chem\n",
    "from main import *\n",
    "import matplotlib.pyplot as plt\n",
    "\n",
    "import warnings\n",
    "warnings.filterwarnings(\"ignore\")"
   ]
  },
  {
   "cell_type": "code",
   "execution_count": null,
   "metadata": {},
   "outputs": [],
   "source": [
    "# inital discriminator training\n",
    "init_gan, initial_history = initial_dicr_train()"
   ]
  },
  {
   "cell_type": "code",
   "execution_count": null,
   "metadata": {},
   "outputs": [],
   "source": [
    "# pretrain generator and discriminator on all data\n",
    "pretrained_gan, pretrain_history = discr_gen_train()"
   ]
  },
  {
   "cell_type": "code",
   "execution_count": null,
   "metadata": {},
   "outputs": [],
   "source": [
    "# secondly train the model on all data with fixed drug\n",
    "coformer_gan, coformer_history = second_train()"
   ]
  }
 ],
 "metadata": {
  "kernelspec": {
   "display_name": "cheml",
   "language": "python",
   "name": "python3"
  },
  "language_info": {
   "name": "python",
   "version": "3.8.15"
  },
  "orig_nbformat": 4,
  "vscode": {
   "interpreter": {
    "hash": "9a823354c1b58a1fc958a4ddcbba8e1ce2f53be2bee94ae58ffd9530ee8c23d3"
   }
  }
 },
 "nbformat": 4,
 "nbformat_minor": 2
}

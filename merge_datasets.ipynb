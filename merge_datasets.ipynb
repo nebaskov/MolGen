{
 "cells": [
  {
   "cell_type": "code",
   "execution_count": 1,
   "metadata": {},
   "outputs": [],
   "source": [
    "import pandas as pd"
   ]
  },
  {
   "cell_type": "code",
   "execution_count": 3,
   "metadata": {},
   "outputs": [
    {
     "name": "stdout",
     "output_type": "stream",
     "text": [
      "(133885,)\n",
      "(1753209,)\n",
      "(4227,)\n"
     ]
    }
   ],
   "source": [
    "qm9_ds = pd.read_csv(\"qm9.csv\")\n",
    "qm9_smiles = qm9_ds[\"smiles\"]\n",
    "print(\"qm9 dataset shape\", qm9_smiles.shape)\n",
    "\n",
    "chembl_ds = pd.read_csv(\"database_final_all_100smb_kekule.csv\")\n",
    "chembl_smiles = chembl_ds[\"smiles\"]\n",
    "print(\"chembl dataset shape\", chembl_smiles.shape)\n",
    "\n",
    "coformer_ds = pd.read_csv(\"database_cof_100smb_kekule.csv\")\n",
    "coformer_smiles = coformer_ds[\"smiles\"]\n",
    "print(\"coformer dataset shape\", coformer_smiles.shape)"
   ]
  },
  {
   "cell_type": "code",
   "execution_count": 4,
   "metadata": {},
   "outputs": [
    {
     "data": {
      "text/plain": [
       "(1891321,)"
      ]
     },
     "execution_count": 4,
     "metadata": {},
     "output_type": "execute_result"
    }
   ],
   "source": [
    "concat_ds = pd.concat([qm9_smiles, chembl_smiles, coformer_smiles], axis=0)\n",
    "print(\"concatenated dataset shape before drop duplicates: \\n\", concat_ds.shape)\n",
    "concat_ds"
   ]
  },
  {
   "cell_type": "code",
   "execution_count": 7,
   "metadata": {},
   "outputs": [
    {
     "data": {
      "text/plain": [
       "(1889367,)"
      ]
     },
     "execution_count": 7,
     "metadata": {},
     "output_type": "execute_result"
    }
   ],
   "source": [
    "concat_ds.drop_duplicates(inplace=True)\n",
    "print(\"concatenated dataset shape after drop duplicates: \\n\", concat_ds.shape)"
   ]
  },
  {
   "cell_type": "code",
   "execution_count": 8,
   "metadata": {},
   "outputs": [],
   "source": [
    "concat_ds.to_csv(\"concatenated_smiles.csv\")"
   ]
  }
 ],
 "metadata": {
  "kernelspec": {
   "display_name": "cheml",
   "language": "python",
   "name": "python3"
  },
  "language_info": {
   "codemirror_mode": {
    "name": "ipython",
    "version": 3
   },
   "file_extension": ".py",
   "mimetype": "text/x-python",
   "name": "python",
   "nbconvert_exporter": "python",
   "pygments_lexer": "ipython3",
   "version": "3.8.15"
  },
  "orig_nbformat": 4,
  "vscode": {
   "interpreter": {
    "hash": "9a823354c1b58a1fc958a4ddcbba8e1ce2f53be2bee94ae58ffd9530ee8c23d3"
   }
  }
 },
 "nbformat": 4,
 "nbformat_minor": 2
}

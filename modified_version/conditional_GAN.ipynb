{
 "cells": [
  {
   "cell_type": "code",
   "execution_count": null,
   "metadata": {
    "id": "nOuO8wFMW3wu"
   },
   "outputs": [],
   "source": [
    "# !pip install rdkit\n",
    "# !pip install torch\n",
    "# !pip install allennlp"
   ]
  },
  {
   "cell_type": "code",
   "execution_count": 1,
   "metadata": {
    "id": "cK2D6dVRPkLG"
   },
   "outputs": [],
   "source": [
    "import torch\n",
    "import pickle as pi\n",
    "import pandas as pd\n",
    "import numpy as np\n",
    "import rdkit\n",
    "from rdkit import Chem\n",
    "from rdkit.Chem import Descriptors, rdMolDescriptors\n",
    "import tensorflow as tf"
   ]
  },
  {
   "cell_type": "code",
   "execution_count": 4,
   "metadata": {},
   "outputs": [
    {
     "data": {
      "text/plain": [
       "'d:\\\\stuff\\\\code\\\\aiLab\\\\help\\\\modified_version'"
      ]
     },
     "execution_count": 4,
     "metadata": {},
     "output_type": "execute_result"
    }
   ],
   "source": [
    "import os\n",
    "os.getcwd()"
   ]
  },
  {
   "cell_type": "code",
   "execution_count": 5,
   "metadata": {
    "id": "2Sxq8SOUQ-P9"
   },
   "outputs": [],
   "source": [
    "clf = pi.load(open('../weights/clf.pkl', 'rb'))"
   ]
  },
  {
   "cell_type": "code",
   "execution_count": null,
   "metadata": {
    "id": "rG0k5YEGSuQz"
   },
   "outputs": [],
   "source": [
    "drug = 'CN1C=NC2=C1C(=O)N(C)C(=O)N2C'"
   ]
  },
  {
   "cell_type": "code",
   "execution_count": null,
   "metadata": {
    "id": "unPeDIOzOgfN"
   },
   "outputs": [],
   "source": [
    "generated_example = 'NC(=O)CN1CCCC1=O'"
   ]
  },
  {
   "cell_type": "code",
   "execution_count": null,
   "metadata": {
    "id": "Z_iVd-pxa3X3"
   },
   "outputs": [],
   "source": [
    "def generate_descriptors(smile):\n",
    "  \n",
    "  descriptor_names = list(rdMolDescriptors.Properties.GetAvailableProperties())\n",
    "  get_descriptors = rdMolDescriptors.Properties(descriptor_names)\n",
    "  \n",
    "  molecule_object = Chem.MolFromSmiles(smile)\n",
    "  final_descriptors = np.array(get_descriptors.ComputeProperties(molecule_object)).reshape((-1, 43))\n",
    "\n",
    "  return final_descriptors\n",
    "\n",
    "\n",
    "def get_clf_input(coformer_smile, drug_smile=drug):\n",
    "\n",
    "  drug_descriptors, coformer_descriptors = generate_descriptors(drug_smile), generate_descriptors(coformer_smile)\n",
    "\n",
    "  final_input = np.concatenate((drug_descriptors, coformer_descriptors), axis=1)\n",
    "\n",
    "  return final_input\n",
    "\n",
    "\n",
    "def calculate_clf_error(coformer_smile, desired_clf_output=1, drug_smile=drug, classifier=clf):\n",
    "\n",
    "  clf_input = get_clf_input(coformer_smile, drug_smile)\n",
    "  clf_prediction = classifier.predict_proba(clf_input)[:,desired_clf_output]\n",
    "\n",
    "  error = tf.keras.metrics.binary_crossentropy(desired_clf_output, \n",
    "                                               clf_prediction)\n",
    "\n",
    "  return float(error)"
   ]
  },
  {
   "cell_type": "markdown",
   "metadata": {
    "id": "Vg6G_gG5ck1X"
   },
   "source": [
    "### Объединенная модель"
   ]
  },
  {
   "cell_type": "code",
   "execution_count": 6,
   "metadata": {
    "id": "jGEs9chj-2Hv"
   },
   "outputs": [],
   "source": [
    "from model import MolGen"
   ]
  },
  {
   "cell_type": "code",
   "execution_count": null,
   "metadata": {
    "id": "oc9NI4h0rPqS"
   },
   "outputs": [],
   "source": [
    "#gan_mol = pi.load(open('gan_mol.pkl', 'rb')) #загрузка предобученной на коформерах генеративной модели"
   ]
  },
  {
   "cell_type": "code",
   "execution_count": null,
   "metadata": {
    "id": "5EWmQTOCNIaH"
   },
   "outputs": [],
   "source": [
    "# gan_mol = pi.load(open('../weights/gan_mol7_50ksteps_100symb_kekuke.pkl', 'rb')) #загрузка предобученной только на ChemBL генеративной модели"
   ]
  },
  {
   "cell_type": "code",
   "execution_count": 8,
   "metadata": {},
   "outputs": [
    {
     "ename": "RuntimeError",
     "evalue": "Attempting to deserialize object on a CUDA device but torch.cuda.is_available() is False. If you are running on a CPU-only machine, please use torch.load with map_location=torch.device('cpu') to map your storages to the CPU.",
     "output_type": "error",
     "traceback": [
      "\u001B[1;31m---------------------------------------------------------------------------\u001B[0m",
      "\u001B[1;31mRuntimeError\u001B[0m                              Traceback (most recent call last)",
      "Cell \u001B[1;32mIn [8], line 1\u001B[0m\n\u001B[1;32m----> 1\u001B[0m gan_mol \u001B[39m=\u001B[39m torch\u001B[39m.\u001B[39;49mload(\u001B[39m'\u001B[39;49m\u001B[39m../weights/gan_mol7_50ksteps_100symb_kekuke.pkl\u001B[39;49m\u001B[39m'\u001B[39;49m, map_location\u001B[39m=\u001B[39;49mtorch\u001B[39m.\u001B[39;49mdevice(\u001B[39m'\u001B[39;49m\u001B[39mcpu\u001B[39;49m\u001B[39m'\u001B[39;49m))\n",
      "File \u001B[1;32mc:\\Users\\nshir\\miniconda3\\envs\\cheml\\lib\\site-packages\\torch\\serialization.py:713\u001B[0m, in \u001B[0;36mload\u001B[1;34m(f, map_location, pickle_module, **pickle_load_args)\u001B[0m\n\u001B[0;32m    711\u001B[0m             \u001B[39mreturn\u001B[39;00m torch\u001B[39m.\u001B[39mjit\u001B[39m.\u001B[39mload(opened_file)\n\u001B[0;32m    712\u001B[0m         \u001B[39mreturn\u001B[39;00m _load(opened_zipfile, map_location, pickle_module, \u001B[39m*\u001B[39m\u001B[39m*\u001B[39mpickle_load_args)\n\u001B[1;32m--> 713\u001B[0m \u001B[39mreturn\u001B[39;00m _legacy_load(opened_file, map_location, pickle_module, \u001B[39m*\u001B[39;49m\u001B[39m*\u001B[39;49mpickle_load_args)\n",
      "File \u001B[1;32mc:\\Users\\nshir\\miniconda3\\envs\\cheml\\lib\\site-packages\\torch\\serialization.py:920\u001B[0m, in \u001B[0;36m_legacy_load\u001B[1;34m(f, map_location, pickle_module, **pickle_load_args)\u001B[0m\n\u001B[0;32m    914\u001B[0m \u001B[39mif\u001B[39;00m \u001B[39mnot\u001B[39;00m \u001B[39mhasattr\u001B[39m(f, \u001B[39m'\u001B[39m\u001B[39mreadinto\u001B[39m\u001B[39m'\u001B[39m) \u001B[39mand\u001B[39;00m (\u001B[39m3\u001B[39m, \u001B[39m8\u001B[39m, \u001B[39m0\u001B[39m) \u001B[39m<\u001B[39m\u001B[39m=\u001B[39m sys\u001B[39m.\u001B[39mversion_info \u001B[39m<\u001B[39m (\u001B[39m3\u001B[39m, \u001B[39m8\u001B[39m, \u001B[39m2\u001B[39m):\n\u001B[0;32m    915\u001B[0m     \u001B[39mraise\u001B[39;00m \u001B[39mRuntimeError\u001B[39;00m(\n\u001B[0;32m    916\u001B[0m         \u001B[39m\"\u001B[39m\u001B[39mtorch.load does not work with file-like objects that do not implement readinto on Python 3.8.0 and 3.8.1. \u001B[39m\u001B[39m\"\u001B[39m\n\u001B[0;32m    917\u001B[0m         \u001B[39mf\u001B[39m\u001B[39m\"\u001B[39m\u001B[39mReceived object of type \u001B[39m\u001B[39m\\\"\u001B[39;00m\u001B[39m{\u001B[39;00m\u001B[39mtype\u001B[39m(f)\u001B[39m}\u001B[39;00m\u001B[39m\\\"\u001B[39;00m\u001B[39m. Please update to Python 3.8.2 or newer to restore this \u001B[39m\u001B[39m\"\u001B[39m\n\u001B[0;32m    918\u001B[0m         \u001B[39m\"\u001B[39m\u001B[39mfunctionality.\u001B[39m\u001B[39m\"\u001B[39m)\n\u001B[1;32m--> 920\u001B[0m magic_number \u001B[39m=\u001B[39m pickle_module\u001B[39m.\u001B[39;49mload(f, \u001B[39m*\u001B[39;49m\u001B[39m*\u001B[39;49mpickle_load_args)\n\u001B[0;32m    921\u001B[0m \u001B[39mif\u001B[39;00m magic_number \u001B[39m!=\u001B[39m MAGIC_NUMBER:\n\u001B[0;32m    922\u001B[0m     \u001B[39mraise\u001B[39;00m \u001B[39mRuntimeError\u001B[39;00m(\u001B[39m\"\u001B[39m\u001B[39mInvalid magic number; corrupt file?\u001B[39m\u001B[39m\"\u001B[39m)\n",
      "File \u001B[1;32mc:\\Users\\nshir\\miniconda3\\envs\\cheml\\lib\\site-packages\\torch\\storage.py:222\u001B[0m, in \u001B[0;36m_load_from_bytes\u001B[1;34m(b)\u001B[0m\n\u001B[0;32m    221\u001B[0m \u001B[39mdef\u001B[39;00m \u001B[39m_load_from_bytes\u001B[39m(b):\n\u001B[1;32m--> 222\u001B[0m     \u001B[39mreturn\u001B[39;00m torch\u001B[39m.\u001B[39;49mload(io\u001B[39m.\u001B[39;49mBytesIO(b))\n",
      "File \u001B[1;32mc:\\Users\\nshir\\miniconda3\\envs\\cheml\\lib\\site-packages\\torch\\serialization.py:713\u001B[0m, in \u001B[0;36mload\u001B[1;34m(f, map_location, pickle_module, **pickle_load_args)\u001B[0m\n\u001B[0;32m    711\u001B[0m             \u001B[39mreturn\u001B[39;00m torch\u001B[39m.\u001B[39mjit\u001B[39m.\u001B[39mload(opened_file)\n\u001B[0;32m    712\u001B[0m         \u001B[39mreturn\u001B[39;00m _load(opened_zipfile, map_location, pickle_module, \u001B[39m*\u001B[39m\u001B[39m*\u001B[39mpickle_load_args)\n\u001B[1;32m--> 713\u001B[0m \u001B[39mreturn\u001B[39;00m _legacy_load(opened_file, map_location, pickle_module, \u001B[39m*\u001B[39;49m\u001B[39m*\u001B[39;49mpickle_load_args)\n",
      "File \u001B[1;32mc:\\Users\\nshir\\miniconda3\\envs\\cheml\\lib\\site-packages\\torch\\serialization.py:930\u001B[0m, in \u001B[0;36m_legacy_load\u001B[1;34m(f, map_location, pickle_module, **pickle_load_args)\u001B[0m\n\u001B[0;32m    928\u001B[0m unpickler \u001B[39m=\u001B[39m UnpicklerWrapper(f, \u001B[39m*\u001B[39m\u001B[39m*\u001B[39mpickle_load_args)\n\u001B[0;32m    929\u001B[0m unpickler\u001B[39m.\u001B[39mpersistent_load \u001B[39m=\u001B[39m persistent_load\n\u001B[1;32m--> 930\u001B[0m result \u001B[39m=\u001B[39m unpickler\u001B[39m.\u001B[39;49mload()\n\u001B[0;32m    932\u001B[0m deserialized_storage_keys \u001B[39m=\u001B[39m pickle_module\u001B[39m.\u001B[39mload(f, \u001B[39m*\u001B[39m\u001B[39m*\u001B[39mpickle_load_args)\n\u001B[0;32m    934\u001B[0m offset \u001B[39m=\u001B[39m f\u001B[39m.\u001B[39mtell() \u001B[39mif\u001B[39;00m f_should_read_directly \u001B[39melse\u001B[39;00m \u001B[39mNone\u001B[39;00m\n",
      "File \u001B[1;32mc:\\Users\\nshir\\miniconda3\\envs\\cheml\\lib\\site-packages\\torch\\serialization.py:876\u001B[0m, in \u001B[0;36m_legacy_load.<locals>.persistent_load\u001B[1;34m(saved_id)\u001B[0m\n\u001B[0;32m    872\u001B[0m     obj\u001B[39m.\u001B[39m_torch_load_uninitialized \u001B[39m=\u001B[39m \u001B[39mTrue\u001B[39;00m\n\u001B[0;32m    873\u001B[0m     \u001B[39m# TODO: Once we decide to break serialization FC, we can\u001B[39;00m\n\u001B[0;32m    874\u001B[0m     \u001B[39m# stop wrapping with _TypedStorage\u001B[39;00m\n\u001B[0;32m    875\u001B[0m     deserialized_objects[root_key] \u001B[39m=\u001B[39m torch\u001B[39m.\u001B[39mstorage\u001B[39m.\u001B[39m_TypedStorage(\n\u001B[1;32m--> 876\u001B[0m         wrap_storage\u001B[39m=\u001B[39mrestore_location(obj, location),\n\u001B[0;32m    877\u001B[0m         dtype\u001B[39m=\u001B[39mdtype)\n\u001B[0;32m    879\u001B[0m typed_storage \u001B[39m=\u001B[39m deserialized_objects[root_key]\n\u001B[0;32m    880\u001B[0m \u001B[39mif\u001B[39;00m view_metadata \u001B[39mis\u001B[39;00m \u001B[39mnot\u001B[39;00m \u001B[39mNone\u001B[39;00m:\n",
      "File \u001B[1;32mc:\\Users\\nshir\\miniconda3\\envs\\cheml\\lib\\site-packages\\torch\\serialization.py:175\u001B[0m, in \u001B[0;36mdefault_restore_location\u001B[1;34m(storage, location)\u001B[0m\n\u001B[0;32m    173\u001B[0m \u001B[39mdef\u001B[39;00m \u001B[39mdefault_restore_location\u001B[39m(storage, location):\n\u001B[0;32m    174\u001B[0m     \u001B[39mfor\u001B[39;00m _, _, fn \u001B[39min\u001B[39;00m _package_registry:\n\u001B[1;32m--> 175\u001B[0m         result \u001B[39m=\u001B[39m fn(storage, location)\n\u001B[0;32m    176\u001B[0m         \u001B[39mif\u001B[39;00m result \u001B[39mis\u001B[39;00m \u001B[39mnot\u001B[39;00m \u001B[39mNone\u001B[39;00m:\n\u001B[0;32m    177\u001B[0m             \u001B[39mreturn\u001B[39;00m result\n",
      "File \u001B[1;32mc:\\Users\\nshir\\miniconda3\\envs\\cheml\\lib\\site-packages\\torch\\serialization.py:152\u001B[0m, in \u001B[0;36m_cuda_deserialize\u001B[1;34m(obj, location)\u001B[0m\n\u001B[0;32m    150\u001B[0m \u001B[39mdef\u001B[39;00m \u001B[39m_cuda_deserialize\u001B[39m(obj, location):\n\u001B[0;32m    151\u001B[0m     \u001B[39mif\u001B[39;00m location\u001B[39m.\u001B[39mstartswith(\u001B[39m'\u001B[39m\u001B[39mcuda\u001B[39m\u001B[39m'\u001B[39m):\n\u001B[1;32m--> 152\u001B[0m         device \u001B[39m=\u001B[39m validate_cuda_device(location)\n\u001B[0;32m    153\u001B[0m         \u001B[39mif\u001B[39;00m \u001B[39mgetattr\u001B[39m(obj, \u001B[39m\"\u001B[39m\u001B[39m_torch_load_uninitialized\u001B[39m\u001B[39m\"\u001B[39m, \u001B[39mFalse\u001B[39;00m):\n\u001B[0;32m    154\u001B[0m             \u001B[39mwith\u001B[39;00m torch\u001B[39m.\u001B[39mcuda\u001B[39m.\u001B[39mdevice(device):\n",
      "File \u001B[1;32mc:\\Users\\nshir\\miniconda3\\envs\\cheml\\lib\\site-packages\\torch\\serialization.py:136\u001B[0m, in \u001B[0;36mvalidate_cuda_device\u001B[1;34m(location)\u001B[0m\n\u001B[0;32m    133\u001B[0m device \u001B[39m=\u001B[39m torch\u001B[39m.\u001B[39mcuda\u001B[39m.\u001B[39m_utils\u001B[39m.\u001B[39m_get_device_index(location, \u001B[39mTrue\u001B[39;00m)\n\u001B[0;32m    135\u001B[0m \u001B[39mif\u001B[39;00m \u001B[39mnot\u001B[39;00m torch\u001B[39m.\u001B[39mcuda\u001B[39m.\u001B[39mis_available():\n\u001B[1;32m--> 136\u001B[0m     \u001B[39mraise\u001B[39;00m \u001B[39mRuntimeError\u001B[39;00m(\u001B[39m'\u001B[39m\u001B[39mAttempting to deserialize object on a CUDA \u001B[39m\u001B[39m'\u001B[39m\n\u001B[0;32m    137\u001B[0m                        \u001B[39m'\u001B[39m\u001B[39mdevice but torch.cuda.is_available() is False. \u001B[39m\u001B[39m'\u001B[39m\n\u001B[0;32m    138\u001B[0m                        \u001B[39m'\u001B[39m\u001B[39mIf you are running on a CPU-only machine, \u001B[39m\u001B[39m'\u001B[39m\n\u001B[0;32m    139\u001B[0m                        \u001B[39m'\u001B[39m\u001B[39mplease use torch.load with map_location=torch.device(\u001B[39m\u001B[39m\\'\u001B[39;00m\u001B[39mcpu\u001B[39m\u001B[39m\\'\u001B[39;00m\u001B[39m) \u001B[39m\u001B[39m'\u001B[39m\n\u001B[0;32m    140\u001B[0m                        \u001B[39m'\u001B[39m\u001B[39mto map your storages to the CPU.\u001B[39m\u001B[39m'\u001B[39m)\n\u001B[0;32m    141\u001B[0m device_count \u001B[39m=\u001B[39m torch\u001B[39m.\u001B[39mcuda\u001B[39m.\u001B[39mdevice_count()\n\u001B[0;32m    142\u001B[0m \u001B[39mif\u001B[39;00m device \u001B[39m>\u001B[39m\u001B[39m=\u001B[39m device_count:\n",
      "\u001B[1;31mRuntimeError\u001B[0m: Attempting to deserialize object on a CUDA device but torch.cuda.is_available() is False. If you are running on a CPU-only machine, please use torch.load with map_location=torch.device('cpu') to map your storages to the CPU."
     ]
    }
   ],
   "source": [
    "gan_mol = torch.load('../weights/gan_mol7_50ksteps_100symb_kekuke.pkl', map_location=torch.device('cpu'))"
   ]
  },
  {
   "cell_type": "code",
   "execution_count": null,
   "metadata": {
    "id": "o4hwBvIShYlz"
   },
   "outputs": [],
   "source": [
    "#создание списка SMILES\n",
    "data = []\n",
    "with open('../data/database_cof_100smb_kekule.csv', \"r\") as f:\n",
    "    for line in f.readlines()[1:]:\n",
    "        data.append(line.split(\"\\n\")[0])\n",
    "\n",
    "loader = gan_mol.create_dataloader(data, batch_size=20, shuffle=True, num_workers=10)"
   ]
  },
  {
   "cell_type": "code",
   "execution_count": null,
   "metadata": {
    "id": "EwklxOX8hwOj"
   },
   "outputs": [],
   "source": [
    "# train model for 10000 steps\n",
    "gan_mol.train()"
   ]
  },
  {
   "cell_type": "code",
   "execution_count": null,
   "metadata": {
    "id": "kLyRWJjUxN5a"
   },
   "outputs": [],
   "source": [
    "import warnings #возникает одна и та же ошибка\n",
    "warnings.filterwarnings('ignore')\n",
    "\n",
    "gan_mol.train_n_steps(loader, max_step=1000, evaluate_every=10)"
   ]
  },
  {
   "cell_type": "markdown",
   "metadata": {
    "id": "W74j03r8SWj_"
   },
   "source": [
    "### График измененеие clf loss в процессе обучения"
   ]
  },
  {
   "cell_type": "code",
   "execution_count": null,
   "metadata": {
    "id": "noi90P1GTUsx"
   },
   "outputs": [],
   "source": [
    "import matplotlib.pyplot as plt"
   ]
  },
  {
   "cell_type": "code",
   "execution_count": null,
   "metadata": {
    "id": "klKWnUsdSijK"
   },
   "outputs": [],
   "source": [
    "x1 = []\n",
    "i = 0\n",
    "for i in range (100):\n",
    "  i += 1\n",
    "  x1.append(i)\n",
    "\n",
    "x2 = x1"
   ]
  },
  {
   "cell_type": "code",
   "execution_count": null,
   "metadata": {
    "id": "iouwovc5c4_o"
   },
   "outputs": [],
   "source": [
    "import math "
   ]
  },
  {
   "cell_type": "code",
   "execution_count": null,
   "metadata": {
    "id": "GwR4wcAvS-OV"
   },
   "outputs": [],
   "source": [
    "# обучение предобученной на коформерах генеративной модели\n",
    "y1 = []\n",
    "y = [0.45, 0.5729166666666666, 0.52, 0.58, 0.6145833333333334, 0.57, 0.6224489795918368, 0.5729166666666666, 0.56, 0.62, 0.5208333333333334, 0.5918367346938775, 0.5416666666666666, 0.57, 0.5208333333333334, 0.6122448979591837, 0.5714285714285714, 0.59, 0.42857142857142855, 0.30612244897959184, 0.2916666666666667, 0.33, 0.46938775510204084, 0.36666666666666664, 0.6428571428571429, 0.75, 0.5, 0.5510204081632653, 0.44, 0.46875, 0.28125, 0.25510204081632654, 0.3333333333333333, 0.46875, 0.4479166666666667, 0.5222222222222223, 0.5638297872340425, 0.42857142857142855, 0.40816326530612246, 0.425531914893617, 0.4673913043478261, 0.5, 0.5520833333333334, 0.63, 0.5531914893617021, 0.5612244897959183, 0.46938775510204084, 0.4148936170212766, 0.4479166666666667, 0.3191489361702128, 0.4772727272727273, 0.3333333333333333, 0.40625, 0.46938775510204084, 0.5408163265306123, 0.5777777777777777, 0.6046511627906976, 0.4387755102040816, 0.336734693877551, 0.3020833333333333, 0.22448979591836735, 0.36, 0.4479166666666667, 0.4387755102040816, 0.44, 0.4787234042553192, 0.5612244897959183, 0.5638297872340425, 0.53125, 0.6111111111111112, 0.6, 0.7448979591836735, 0.7142857142857143, 0.7346938775510204, 0.7, 0.6938775510204082, 0.66, 0.4166666666666667, 0.4583333333333333, 0.4479166666666667, 0.4479166666666667, 0.46808510638297873, 0.5104166666666666, 0.5425531914893617, 0.5824175824175825, 0.6276595744680851, 0.5104166666666666, 0.47959183673469385, 0.44, 0.5217391304347826, 0.48, 0.3, 0.32608695652173914, 0.42857142857142855, 0.3125, 0.3020833333333333, 0.2765957446808511, 0.28125, 0.24489795918367346, 0.34]\n",
    "for i in y:\n",
    "  j = i ** (1/2)\n",
    "  y1.append(j)"
   ]
  },
  {
   "cell_type": "code",
   "execution_count": null,
   "metadata": {
    "id": "1zWSr4FcTFHE"
   },
   "outputs": [],
   "source": [
    "# предобученной только на ChemBL генеративной модели\n",
    "y2 = []\n",
    "y = [0.6666666666666666, 0.618421052631579, 0.5135135135135135, 0.4050632911392405, 0.3, 0.34285714285714286, 0.2875, 0.23333333333333334, 0.4574468085106383, 0.5157894736842106, 0.7065217391304348, 0.5952380952380952, 0.5909090909090909, 0.5, 0.4878048780487805, 0.36764705882352944, 0.2830188679245283, 0.375, 0.44, 0.3220338983050847, 0.475, 0.7755102040816326, 0.7727272727272727, 0.66, 0.6428571428571429, 0.48214285714285715, 0.48333333333333334, 0.5625, 0.4069767441860465, 0.4090909090909091, 0.38372093023255816, 0.4880952380952381, 0.5116279069767442, 0.49333333333333335, 0.5945945945945946, 0.3977272727272727, 0.32222222222222224, 0.3333333333333333, 0.3522727272727273, 0.36046511627906974, 0.4431818181818182, 0.38095238095238093, 0.47674418604651164, 0.5851063829787234, 0.6222222222222222, 0.627906976744186, 0.7228915662650602, 0.6046511627906976, 0.6951219512195121, 0.7333333333333333, 0.6477272727272727, 0.7439024390243902, 0.5444444444444444, 0.7093023255813954, 0.5, 0.5, 0.44047619047619047, 0.5227272727272727, 0.40789473684210525, 0.34146341463414637, 0.45555555555555555, 0.4090909090909091, 0.4714285714285714, 0.48717948717948717, 0.5972222222222222, 0.4594594594594595, 0.5294117647058824, 0.5735294117647058, 0.5384615384615384, 0.47560975609756095, 0.4367816091954023, 0.5217391304347826, 0.4186046511627907, 0.36585365853658536, 0.4230769230769231, 0.46153846153846156, 0.47619047619047616, 0.4868421052631579, 0.5606060606060606, 0.5714285714285714, 0.4166666666666667, 0.5217391304347826, 0.38823529411764707, 0.3333333333333333, 0.4186046511627907, 0.43617021276595747, 0.36666666666666664, 0.40476190476190477, 0.45555555555555555, 0.5977011494252874, 0.46987951807228917, 0.4148936170212766, 0.4418604651162791, 0.36666666666666664, 0.3953488372093023, 0.38372093023255816, 0.5760869565217391, 0.47, 0.5416666666666666, 0.4791666666666667]\n",
    "for i in y:\n",
    "  j = i ** (1/2)\n",
    "  y2.append(j)"
   ]
  },
  {
   "cell_type": "code",
   "execution_count": null,
   "metadata": {
    "id": "EoNPydhaTjlL"
   },
   "outputs": [],
   "source": [
    "# построение графика\n",
    "plt.figure(figsize=(15,10))\n",
    "plt.plot(x1, y1, label = \"Предобученная на коформерах модель\")\n",
    "plt.plot(x2, y2, label = \"Предобученной только на ChemBL модель\")\n",
    "plt.title('Изменение clf loss в процессе обучения')\n",
    "plt.xlabel('Итерация обучения')\n",
    "plt.ylabel('clf loss mean')\n",
    "plt.legend()\n",
    "plt.show()"
   ]
  }
 ],
 "metadata": {
  "accelerator": "GPU",
  "colab": {
   "collapsed_sections": [
    "w6bnkngncdHR"
   ],
   "provenance": []
  },
  "gpuClass": "premium",
  "kernelspec": {
   "display_name": "cheml",
   "language": "python",
   "name": "python3"
  },
  "language_info": {
   "codemirror_mode": {
    "name": "ipython",
    "version": 3
   },
   "file_extension": ".py",
   "mimetype": "text/x-python",
   "name": "python",
   "nbconvert_exporter": "python",
   "pygments_lexer": "ipython3",
   "version": "3.8.15"
  },
  "vscode": {
   "interpreter": {
    "hash": "9a823354c1b58a1fc958a4ddcbba8e1ce2f53be2bee94ae58ffd9530ee8c23d3"
   }
  }
 },
 "nbformat": 4,
 "nbformat_minor": 0
}

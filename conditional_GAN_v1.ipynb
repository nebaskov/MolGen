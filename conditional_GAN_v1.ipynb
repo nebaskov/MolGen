{
 "cells": [
  {
   "cell_type": "code",
   "execution_count": 1,
   "metadata": {
    "id": "nOuO8wFMW3wu",
    "colab": {
     "base_uri": "https://localhost:8080/"
    },
    "outputId": "e8839e4b-7f06-4e02-acb2-70a970170391"
   },
   "outputs": [],
   "source": [
    "# !pip install rdkit\n",
    "# !pip install allennlp\n",
    "# !pip install --pre torch torchvision -f https://download.pytorch.org/whl/nightly/cu110/torch_nightly.html -U\n",
    "# !pip install torch==1.7.0+cu111 torchvision==0.10.0+cu111 torchaudio==0.9.0 -f https://download.pytorch.org/whl/torch_stable.html\n",
    "# !pip install torch==1.9.0+cu111 torchvision==0.10.0+cu111 torchaudio==0.9.0 -f https://download.pytorch.org/whl/torch_stable.html"
   ]
  },
  {
   "cell_type": "code",
   "execution_count": 2,
   "metadata": {
    "id": "cK2D6dVRPkLG"
   },
   "outputs": [],
   "source": [
    "import torch\n",
    "import pickle as pi\n",
    "import pandas as pd\n",
    "import numpy as np\n",
    "import rdkit\n",
    "from rdkit import Chem\n",
    "from rdkit.Chem import Descriptors, rdMolDescriptors\n",
    "import tensorflow as tf"
   ]
  },
  {
   "cell_type": "code",
   "source": [
    "# from google.colab import drive\n",
    "# drive.mount('/content/drive')"
   ],
   "metadata": {
    "colab": {
     "base_uri": "https://localhost:8080/"
    },
    "id": "QM8tigr5SLOn",
    "outputId": "594c5a35-6f9a-4ae7-855b-d94da82316d0"
   },
   "execution_count": 3,
   "outputs": []
  },
  {
   "cell_type": "code",
   "source": [
    "import os\n",
    "# os.chdir('/content/drive/MyDrive/MolGen')"
   ],
   "metadata": {
    "id": "C7D9eG3nSXQF"
   },
   "execution_count": 4,
   "outputs": []
  },
  {
   "cell_type": "code",
   "execution_count": 5,
   "metadata": {
    "id": "2Sxq8SOUQ-P9"
   },
   "outputs": [],
   "source": [
    "clf = pi.load(open('weights/clf.pkl', 'rb'))"
   ]
  },
  {
   "cell_type": "code",
   "execution_count": 6,
   "metadata": {
    "id": "rG0k5YEGSuQz"
   },
   "outputs": [],
   "source": [
    "drug = 'CN1C=NC2=C1C(=O)N(C)C(=O)N2C'"
   ]
  },
  {
   "cell_type": "code",
   "source": [
    "generated_example = 'NC(=O)CN1CCCC1=O'"
   ],
   "metadata": {
    "id": "unPeDIOzOgfN"
   },
   "execution_count": 7,
   "outputs": []
  },
  {
   "cell_type": "code",
   "source": [
    "def generate_descriptors(smiles):\n",
    "  \n",
    "  descriptor_names = list(rdMolDescriptors.Properties.GetAvailableProperties())\n",
    "  get_descriptors = rdMolDescriptors.Properties(descriptor_names)\n",
    "  \n",
    "  molecule_object = Chem.MolFromSmiles(smiles)\n",
    "  final_descriptors = np.array(get_descriptors.ComputeProperties(molecule_object)).reshape((-1, 43))\n",
    "\n",
    "  return final_descriptors\n",
    "\n",
    "\n",
    "def get_clf_input(coformer_smiles, drug_smiles=drug):\n",
    "\n",
    "  drug_descriptors, coformer_descriptors = generate_descriptors(drug_smiles), generate_descriptors(coformer_smiles)\n",
    "\n",
    "  final_input = np.concatenate((drug_descriptors, coformer_descriptors), axis=1)\n",
    "\n",
    "  return final_input\n",
    "\n",
    "\n",
    "def calculate_clf_error(coformer_smiles, desired_clf_output=1, drug_smiles=drug, classifier=clf):\n",
    "\n",
    "  clf_input = get_clf_input(coformer_smiles, drug_smiles)\n",
    "  clf_prediction = classifier.predict_proba(clf_input)[:,desired_clf_output]\n",
    "\n",
    "  error = tf.keras.metrics.binary_crossentropy(desired_clf_output, \n",
    "                                               clf_prediction)\n",
    "\n",
    "  return float(error)"
   ],
   "metadata": {
    "id": "Z_iVd-pxa3X3"
   },
   "execution_count": 8,
   "outputs": []
  },
  {
   "cell_type": "markdown",
   "metadata": {
    "id": "Vg6G_gG5ck1X"
   },
   "source": [
    "### Объединенная модель"
   ]
  },
  {
   "cell_type": "code",
   "execution_count": 9,
   "metadata": {
    "id": "jGEs9chj-2Hv"
   },
   "outputs": [],
   "source": [
    "from model import MolGen"
   ]
  },
  {
   "cell_type": "code",
   "execution_count": 10,
   "metadata": {
    "id": "o4hwBvIShYlz"
   },
   "outputs": [],
   "source": [
    "#создание списка SMILES\n",
    "with open('data/database_cof_100smb_kekule.csv', \"r\") as file:\n",
    "  data = [molecule.replace('\\n', '') for molecule in file]"
   ]
  },
  {
   "cell_type": "code",
   "source": [
    "data"
   ],
   "metadata": {
    "colab": {
     "base_uri": "https://localhost:8080/"
    },
    "id": "isffA6x5YuNX",
    "outputId": "0c644579-19ae-4ff8-e233-e9e68e61e405"
   },
   "execution_count": 11,
   "outputs": [
    {
     "data": {
      "text/plain": "['CC1(C)C(=O)NC1S(=O)(=O)C1=CC=CC=C1',\n 'CC1C(=O)NC1S(=O)(=O)C1=CC=CC=C1',\n 'OC1=CC=CC(O)=C1',\n 'C(=CC1=CC=NC=C1)C1=CC=NC=C1',\n 'C1=NC=CC(C2C(C3=CC=NC=C3)C(C3=CC=NC=C3)C2C2=CC=NC=C2)=C1',\n 'COC1=CC(O)=CC(O)=C1',\n 'C(=CC1=CC=CC=N1)C1=CC=CC=N1',\n 'NC(=O)N1C2=CC=CC=C2C=CC2=CC=CC=C21',\n 'OC1=CC=C(O)C=C1',\n 'NC(=O)CN1CCCC1=O',\n 'O=C1C(O)=C(Cl)C(=O)C(O)=C1Cl',\n 'C(#CC1=CC=CC=N1)C1=CC=CC=N1',\n 'NC(=O)C1=CC=CN=C1',\n 'O=C(O)C1=CC2=CC=CC=C2C=C1O',\n 'O=C(O)C1=CC([N+](=O)[O-])=CC([N+](=O)[O-])=C1',\n 'C1=CC=C2C(=C1)C=CC1=CC=C3C=CC4=CC=C5C=CC=CC5=C4C3=C12',\n 'N#CC(C#N)=C1C=CC(=C(C#N)C#N)C=C1',\n 'O=C(O)C1=CC(C(=O)O)=CC([N+](=O)[O-])=C1',\n 'C1=CC=C2C(=C1)C=CC1=CC=CC=C12',\n 'CC(=O)C=C(C)O',\n 'CC1=C(C2=C(C)C=C3C(C(C)C)=C(O)C(O)=C(C=O)C3=C2O)C(O)=C2C(C=O)=C(O)C(O)=C(C(C)C)C2=C1',\n 'COC(=O)N1C=NC(C(N)=O)=C1N',\n 'CN1N=NC2=C(C(N)=O)N=CN2C1=O',\n 'NC1=CC=CC=C1C(=O)O',\n 'O=C(O)C(O)C(O)C(=O)O',\n 'O=C(O)C(=O)O',\n 'O=C(O)C1=CC=CC=C1O',\n 'C1=CC2=CC=CC3=C2C(=C1)CC3',\n 'O=C1C(Cl)=C(Cl)C(=O)C(Cl)=C1Cl',\n 'C1COCCOCCOCCOCCOCCOCCOCCO1',\n 'BrC1=CC=C(Br)C2=C1N=C(C1=CC=C(C3=NC4=C(Br)C=CC(Br)=C4N3)C=C1)N2',\n 'O=C(O)C1=CC=CC2=CC=CC(C(=O)O)=C12',\n 'O=C1C=CC=CN1',\n 'O=C(O)C1CC1',\n 'NC(=O)C1=CC=NC=C1',\n 'O=C(O)C1CCC1',\n 'O=C(O)C1CCCCC1',\n 'NC(=O)C1=CN=CC=N1',\n 'O=C(O)C1=CC(O)=CC(O)=C1',\n 'COC1=CC(C=CC(=O)O)=CC=C1O',\n 'C1=NC=CC(CCC2=CC=NC=C2)=C1',\n 'OC1=CC=C(Cl)C(O)=C1',\n 'N#CC1=CC=C(C(=O)O)C=C1',\n 'NNC(=O)C1=CC=NC=C1',\n 'NC1=CC=C(C(=O)O)C=C1',\n 'O=C(O)C1=CC=C([N+](=O)[O-])C=C1',\n 'C1CCC(NC2CCCCC2)CC1',\n 'ON=C1CCCCC1',\n 'O=C1NC(=O)N(C2OC(CO)C(O)C2O)C=C1Br',\n 'NC1=NC=NC2=C1N=CN2C1OC(CO)C(O)C1O',\n 'O=C1NS(=O)(=O)C2=CC=CC=C12',\n 'O=C(O)C1=CC=C(O)C=C1',\n 'CC1=CC(C)=NC(N)=N1',\n 'CCN1C=NC2=C1N=CN=C2N',\n 'CSCOC(=O)C1(C)CC2(C)CC(C)(C1)C(=O)NC2=O',\n 'C=CC1(C)CCC2C(=CCC3C(C)(CO)C(O)CCC23C)C1',\n 'CC12CC34CCC5C(C)(CO)C(O)CCC5(C)C3CC1C2C4',\n 'O=C1NC=C(Br)C(=O)N1',\n 'CN(C)C1=CC=C(N=NC2=CC=CC=C2C(=O)O)C=C1',\n 'O=C(O)C1=CC(C(=O)O)=CC(C(=O)O)=C1',\n 'CC1=CC(=O)NC(=O)N1C',\n 'CC1=NC(N)=NC(N)=N1',\n 'CC(C1=CC=C(O)C=C1)(C1=CC=C(O)C=C1)C1=CC=C(O)C=C1',\n 'C1=CC=C(C2=CC=CC=N2)N=C1',\n 'CN1C(=O)C2=C(N=CN2C)N(C)C1=O',\n 'O=C(O)C1=CC(F)=C(F)C(F)=C1F',\n 'O=C(O)C1=C(F)C=CC=C1F',\n 'O=C(O)C1=CC(F)=CC=C1F',\n 'O=C(O)C1=CC=CC(F)=C1F',\n 'O=C(O)C1=CC=CC(F)=C1',\n 'O=C(O)C1=CC=CC=C1F',\n 'O=C(O)C1=CC=CC=C1',\n 'O=[N+]([O-])C1=CC=C(O)C=C1',\n 'C1CNCCN1',\n 'CNNC(=O)C1=CC([N+](=O)[O-])=CC=C1O',\n 'C[NH2+]NC(=O)C1=CC([N+](=O)[O-])=CC=C1[O-]',\n 'CC1=CC=CC(NC2=CC=CC=C2C(=O)O)=C1C',\n 'C1=CC(N=NC2=CC=NC=C2)=CC=N1',\n 'C1=NC=CC(CCCC2=CC=NC=C2)=C1',\n 'COC1=CC=C2C=C(C(C)C(=O)O)C=CC2=C1',\n 'NNC(=O)C1=C(O)C2=CC=CC=C2S(=O)(=O)N1',\n 'NNC(=O)C(=O)NN',\n 'CC1=NNC(C=NC2=CC=CC=C2O)=C1',\n 'CC1=CC(C=NC2=CC=CC=C2O)=NN1',\n 'NC1=CC=CC2=CC=CC(N)=C12',\n 'C1=CN=C(C2=NC3=CC=CC4=CC=CC(=C34)N2)N=C1',\n 'O=C(O)C=CC1=CC=CC=C1',\n 'C1=CC=C2C(=C1)C1=CC=CC=C1N2C1=CC=C(C2=CC=C(N3C4=CC=CC=C4C4=CC=CC=C43)C=C2)C=C1',\n 'N#CC1=CC(C#N)=C(C#N)C=C1C#N',\n 'O=C1C2=C(C(=O)C3=C([N+](=O)[O-])C=CC=C13)C([N+](=O)[O-])=CC=C2',\n 'C1=CC2=CC=C3C=CC=C4C=CC(=C1)C2=C34',\n 'O=C(O)CC1=CC=CC=C1',\n 'O=C(O)CC1=CC=C(Cl)C=C1',\n 'O=C(O)CC1=CC=CC2=CC=CC=C12',\n 'O=C(O)CC1=CC=C2C=CC=CC2=C1',\n 'C1CSCCN1',\n 'FC1=C(F)C(I)=C(F)C(F)=C1I',\n 'C1CCNCC1',\n 'O=C1C(=O)C2=CC=CC=C2C2=CC=CC=C12',\n 'NC(N)=S',\n 'O=C1CNC(=O)CN1',\n 'C#CC(=O)O',\n 'OC1=CC(Cl)=C(O)C=C1Cl',\n 'O=C(O)C1=CC(O)=CC=C1O',\n 'O=C(O)C1=CC(Cl)=CC=C1O',\n 'O=C(O)C=CC(=O)O',\n 'O=C(O)C1=CC(O)=C(C(=O)O)C=C1O',\n 'O=C(O)C1=CC(Cl)=C(C(=O)O)C=C1Cl',\n 'O=C1C=C(O)C(=O)C=C1O',\n 'CCCC=CC(=O)O',\n 'NC(=O)C1=CC=C(Cl)C=C1',\n 'CN(C)C1=CC=CC(C(=O)O)=C1',\n 'O=C1C=CC2=CC=CC=C2C1=CNC1=CC=C(OC2=CC=C(NC=C3C(=O)C=CC4=CC=CC=C34)C=C2)C=C1',\n 'O=C1C=CC2=CC=CC=C2C1=CNC1=CC=C(OC2=CC=C(N=CC3=C4C=CC=CC4=CC=C3O)C=C2)C=C1',\n 'O=C(NCC1=CC=NC=C1)C(=O)NCC1=CC=NC=C1',\n 'O=C(O)C1=CC=CC=C1N=NC1=CC=C(O)C=C1',\n 'CC(C)C(=O)NC1=CC=CC(NC(=O)C(C)C)=N1',\n 'CN(C)C1=CC=C(C#CC2(C)CC3(C)CC(C)(C2)C(=O)NC3=O)C=C1',\n 'C#CC1(C)CC2(C)CC(C)(C1)C(=O)NC2=O',\n 'CC1(C#CC2=CC=C(C3=CN=CC=N3)C=C2)CC2(C)CC(C)(C1)C(=O)NC2=O',\n 'CC1(C#CC2=CC=C(C3=CN=CN=C3)C=C2)CC2(C)CC(C)(C1)C(=O)NC2=O',\n 'CC1(C#CC2=CC=CC=C2)CC2(C)CC(C)(C1)C(=O)NC2=O',\n 'CCC1=CC(NC(=O)C(C)C)=NC(NC(=O)C(C)C)=C1',\n 'NC(=S)C(N)=S',\n 'C1CCC2OCCOCCOC3CCCCC3OCCOCCOC2C1',\n 'C1COCCOCCOCCOCCOCCO1',\n 'NC(=S)NNC(N)=S',\n 'C1COCCOCCOCCO1',\n 'CC1=C(C)N(C)C(=NN=C2SC(C)=C(C)N2C)S1',\n 'CC(=NN=C1SC(C)=C(C)N1C)C(C)=NN=C1SC(C)=C(C)N1C',\n 'O=C1CN(N=CC2=CC=C([N+](=O)[O-])O2)C(=O)N1',\n 'CC(=O)NC1=CC=CC(NC(C)=O)=N1',\n 'O=P(C1=CC=CC=C1)(C1=CC=CC=C1)C1=CC=CC=C1',\n 'NC(=S)C1=CC=CC=C1',\n 'C1=CC2=C3C(=C1)C=CC=C3C1=CC=CC3=CC=CC2=C31',\n 'N#CC(C#N)=C1C(F)=C(F)C(=C(C#N)C#N)C(F)=C1F',\n 'O=C(O)C1=CC(O)=C(O)C(O)=C1',\n 'CC1(C)C(=O)N(I)C(=O)N1I',\n 'CC1=CC=NC=C1',\n 'C1=NC=CC(N2CCCC2)=C1',\n 'COC(=O)C1=CC=NC=C1',\n 'CN(C)C1=CC=NC=C1',\n 'O=C1C=CC(=O)N1',\n 'COC1=CC=CC(COC2=CC(=O)OC(C)=C2)=C1',\n 'OC1=CC=C2C=CC=CC2=C1C1=C(O)C=CC2=CC=CC=C12',\n 'C1=CC=C2C=NC=CC2=C1',\n 'OC1(C2=CC=CC=C2)C2=CC=CC=C2C2=CC=CC=C21',\n 'CC1CCC(N)CC1',\n 'O=C(O)C1=CC=C(C=CC2=CC=C(C(=O)O)C=C2)C=C1',\n 'C#CC#CCOC(=O)C1=CC(O)=CC(O)=C1',\n 'COC1=CC=CC(OC)=C1',\n 'N#CC(C#N)=C(C#N)C1=CC=C(C2=CC=C(C3=CC=C(C(C#N)=C(C#N)C#N)S3)N2C2=CC=CC=C2)S1',\n 'COC1=CC=C(OC)C=C1',\n '[NH3+]C1=CC=CC=C1C(=O)[O-]',\n 'NC(=O)C1=CC=CC=C1O',\n 'CCC1(CCC(C)C)C(=O)NC(=O)NC1=O',\n 'C1=CC(C2=CC=NC=C2)=CC=N1',\n 'OC1=CC=CC2=C3C=CC=CC3=C3C=CC=CC3=C3C=CC=C(O)C3=C12',\n 'NC(=O)NC(N)=O',\n 'O=C(O)CCCC(=O)O',\n 'NC(N)=O',\n 'C1=CN=C2C(=C1)C=CC1=CC=CN=C12',\n 'CC1=CC=C2C=CC3=CC=C(C)N=C3C2=N1',\n 'O=C(O)C1CCC(C(=O)O)CC1',\n 'C1=CN(CC2=CC=C(CN3C=CN=C3)C=C2)C=N1',\n 'CC1=C(N(C)C)C(=O)N(C2=CC=CC=C2)N1C',\n 'CCC1(C2=CCCCC2)C(=O)NC(=O)NC1=O',\n 'CC(=CC(=O)O)C(=O)O',\n '[O-]C1=CC=CC=C1C=[NH+]C1=CC=CC=C1',\n 'OC1=CC=C(Br)C=C1',\n 'CC12CCC3C(CCC4CC(=O)CCC43C)C1CCC2=O',\n 'CC12C=CC(=O)C=C1C=CC1C2CCC2(C)C(=O)CCC12',\n 'C1=CN=CC=N1',\n 'CNC(C)=O',\n 'OC(C1=CC=CC=C1)(C1=CC=CC=C1)C1OC2(CCCCC2)OC1C(O)(C1=CC=CC=C1)C1=CC=CC=C1',\n 'C[S+](C)CCC(=O)[O-]',\n 'O=[N+]([O-])C1=CC([N+](=O)[O-])=C(O)C([N+](=O)[O-])=C1',\n 'O=C1C(Cl)=CC(=C2C=C(Cl)C(=O)C(Cl)=C2)C=C1Cl',\n 'C1=CC=C2C=C3C=CC=CC3=CC2=C1',\n 'O=C1OC(=O)C2=CC3=C(C=C12)C(=O)OC3=O',\n 'O=[N+]([O-])C1=CC=CC=C1',\n 'OC(C#CC#CC(O)(C1=CC=CC=C1)C1=CC=CC=C1)(C1=CC=CC=C1)C1=CC=CC=C1',\n 'O=C1C=C2C=CC=CC2=CN1',\n 'C1CSCCS1',\n 'C1=CC=C2N=C3C=CC=CC3=NC2=C1',\n 'FC1=C(F)C(F)=C(I)C(I)=C1F',\n 'O=C(C=CC1=CC=NC=C1)C=CC1=CC=NC=C1',\n 'ClC1=CC=C(C=CC2=CC=NC=C2)C(Cl)=C1',\n 'OC1=CC(O)=C(Cl)C=C1Cl',\n 'C1=CC=C(C2=C3OCCOC3=C(C3=CC=CC=N3)S2)N=C1',\n 'C1=CC=C(C2=CC=C(C3=CC=CC=N3)S2)N=C1',\n 'OC1=CC=CC=C1O',\n 'CCCN',\n 'CCCN1C(O)=C(C#N)C(C2=CC=CC=C2)=C(C#N)C1=O',\n 'CC(CCC(=O)O)C1CCC2C3C(O)CC4CC(O)CCC4(C)C3CC(O)C12C',\n 'C=CCOC(C)=O',\n 'CC1=CC(=O)N(C2=CC=CC=C2)N1C',\n 'O=[N+]([O-])C1=CC=CC([N+](=O)[O-])=C1',\n 'CN1C2=CC=CC=C2SC2=CC=CC=C21',\n 'CC(=O)C1=CC(C(=O)C2=CC=CC=C2)=NN(C2=CC=CC=C2)C1',\n 'CC(=O)C1=NN(C2=CC=CC=C2)CC(C(=O)C2=CC=CC=C2)=C1',\n 'CC1=C[N+]([O-])=C2C=CC=CC2=C1',\n 'O=C(O)C1=CC=CC(Cl)=C1',\n 'CC1=CC=C(S(=O)(=O)[N-]C(=O)CN2CCC[NH2+]CCNCCCNCC2)C=C1',\n 'CC1=CC=C(S(N)(=O)=O)C=C1',\n 'OC1(C2=CC=CC=C2C2=CC=CC=C2C2(O)C3=CC=CC=C3C3=CC=CC=C32)C2=CC=CC=C2C2=CC=CC=C21',\n 'BrC1=CC=CN=C1',\n 'ClC1=CC=CN=C1',\n 'CC1=CN=C(NC(=O)C2=C(O)C3=CC=CC=C3S(=O)(=O)N2C)S1',\n 'CC(=O)OC1=CC=CC=C1C(=O)O',\n 'O=C1C(Br)=C(Br)C(=O)C(Br)=C1Br',\n 'C1=CSC(=C2SC=CS2)S1',\n 'FC(F)(I)C(F)(F)C(F)(F)C(F)(F)I',\n 'FC(F)(I)C(F)(F)C(F)(F)C(F)(F)C(F)(F)C(F)(F)C(F)(F)C(F)(F)I',\n 'FC(F)(I)C(F)(F)I',\n 'FC1=C(F)C(F)=C2C(F)=C(F)C(F)=C(F)C2=C1F',\n 'C1=CC=C(C2=CC=CC=C2)C=C1',\n 'C1=CC=C2C(=C1)C1=CC=CC=C21',\n 'C1CSC2=C(S1)SC(=C1SC3=C(SCCS3)S1)S2',\n 'CC1=CC(=C(C#N)C#N)C(C)=CC1=C(C#N)C#N',\n 'N#CC(C#N)=C1C=C(Cl)C(=C(C#N)C#N)C=C1Cl',\n 'C1COC2=C(O1)SC(=C1SC3=C(OCCO3)S1)S2',\n 'O=C(O)C1=CC=CC([N+](=O)[O-])=C1',\n 'O=C(O)C1=CC=C(F)C=C1',\n 'NC(=O)C1=CC=C([N+](=O)[O-])C=C1',\n 'C(#CC1=CC=CC=C1)C1=CC=CC=C1',\n 'FC1=C(F)C(F)=C(C#CC2=C(F)C(F)=C(F)C(F)=C2F)C(F)=C1F',\n 'FC(F)(F)C1=CC(Br)=C2N=C(C3=CC=C(Cl)C=C3)C=NC2=C1',\n 'FC(F)(F)C1=CC(Br)=C2N=CC(C3=CC=C(Cl)C=C3)=NC2=C1',\n 'C1=CN=C(N=NC2=NC=C(NC3=NC=CC=N3)C=N2)N=C1',\n 'C1=CNC=N1',\n 'O=[N+]([O-])C1=CC([N+](=O)[O-])=CC([N+](=O)[O-])=C1',\n 'CC(=O)N1C=C(C)C2=CC=CC=C21',\n 'CCN1C=NC2=C(N)N=CN=C21',\n 'CC12CC(C)(CC(C)(C(=O)NC3=CC=CC4=CC=CN=C34)C1)C(=O)NC2=O',\n 'CC(C)CC(NS(=O)(=O)C(F)(F)F)C(=O)O',\n 'CC(C)(C)C1=CC2=C(OC(NC3=CC(Cl)=CC4=C3OC3(C(=O)NC5=CC=CC=N5)C(CC5=CC=CC=C5C3O)C4)=N2)C(C(C)(C)C)=C1',\n 'CC12CC3=C(CC1CCC1C2CCC2(C)C1CCC2(C)O)NN=C3',\n 'CC12CC3=CNN=C3CC1CCC1C2CCC2(C)C1CCC2(C)O',\n 'CCNCC',\n 'CC1(C)C2CCC1(C)C(O)(C#CC#CC1(O)CC3CCC1(C)C3(C)C)C2',\n 'O=C(O)C(O)C1=CC=CC=C1',\n 'O=P(C1=CC=CC=C1)(C1=CC=CC=C1)C1=CC=CC=C1OCCOCCOC1=CC=CC=C1P(=O)(C1=CC=CC=C1)C1=CC=CC=C1',\n 'C#CC1(O)C2=CC=CC(Cl)=C2C(O)(C#C)C2=CC=CC(Cl)=C21',\n 'CCC(C(=O)[O-])[N+]12CCC(CC1)CC2',\n 'NC1=NC(C2=CSC(N)=N2)=CS1',\n 'C1=NC=CC(C2=NN=C(C3=CC=NC=C3)O2)=C1',\n 'CCOC1=CC=CC=C1C1C(C(=O)O)C(C2=CC=CC=C2OCC)C1C(=O)O',\n 'CCOC1=CC=CC=C1C=CC(=O)O',\n 'C1=CC=C2N=C3C=CC=CC3=CC2=C1',\n 'CN(C(=O)N(C)C1=CC=C(C(=O)O)C=C1)C1=CC=C(C(=O)O)C=C1',\n '[NH3+]CC(=O)[O-]',\n 'C#CC1=CC=C(C#C)C=C1',\n 'CC(=O)C1=CC=CC(C(C)=O)=C1',\n 'O=CC1=CC=C(C=O)C=C1',\n 'O=C(O)C1=CC=CN=C1',\n 'C1=NC=CC(SSC2=CC=NC=C2)=C1',\n 'O=C(O)COC1=CC=C(OCC(=O)O)C=C1',\n 'O=C(O)C1CC(C(=O)O)C(C(=O)O)C1C(=O)O',\n 'O=C(O)C1=CN=CC(C(=O)O)=C1',\n 'COC(=O)C1=CC(O)=C(O)C(O)=C1',\n 'CN1SC(Cl)=CC1=O',\n 'O=C(CC1=CC=CC2=C1N=NN2)C1=CC=C(F)C=C1',\n 'O=C(CC1=CC=CC2=C1NN=N2)C1=CC=C(F)C=C1',\n 'O=C1C(=CC2=CC=NC=C2)CCCC1=CC1=CC=NC=C1',\n 'O=C(O)C1=CC=CC(C(=O)O)=C1',\n 'COC1=CC(C=CC(=O)C=C(O)C=CC2=CC=C(O)C(OC)=C2)=CC=C1O',\n 'OC1=CC=CC(O)=C1O',\n 'CC(=CC=C(C)C(=O)O)C(=O)O',\n 'C1=CC=C2C=C(CSC3=CC=NC=C3)C(CSC3=CC=NC=C3)=CC2=C1',\n 'C1=CC2=CC=CC(C3=CC=NC=C3)=C2C(C2=CC=NC=C2)=C1',\n 'CC(=CC1C(C=C(C)C(=O)O)C(C)(C(=O)O)C1(C)C(=O)O)C(=O)O',\n 'CN(C)C(=O)C=CC(=O)N(C)C',\n 'S=C1NCC2=CC=C(C=C2)CNC(=S)C2=CC=CC(=N2)C(=S)NCC2=CC=C(C=C2)CNC(=S)C2=CC=CC1=N2',\n 'CN(C)C(=O)CCC(=O)N(C)C',\n 'C1=CC=C2C(=C1)C=NC1=CC=CC=C12',\n 'FC1=CC(F)=CC(C#CI)=C1',\n 'C1=COC(C2=CC=C(C3=CC=NC=C3)S2)=C1',\n 'O=[N+]([O-])C1=CC(C#CI)=CC([N+](=O)[O-])=C1',\n 'C1=CSC(C2=CC=C(C3=CC=NC=C3)S2)=C1',\n 'FC1=C(F)C(F)=C(I)C(F)=C1F',\n 'C1=CC=C2C(=C1)C=CC1=CN=NN12',\n 'O=C(O)CCCCC(=O)O',\n 'FC1=C(I)C(F)=C(I)C(F)=C1I',\n 'C1=CC2=CN=NN2C=C1',\n 'OC1=CC=C(Cl)C=C1',\n 'C1CN2CN3CN1CN(C2)C3',\n 'CC1=CC(O)=CC(C)=C1Cl',\n 'O=C(O)CCSC1=CC(=O)C(=O)C2=CC=CC=C12',\n 'O=C(O)C1=CC=CC=C1SSC1=CC=CC=C1C(=O)O',\n 'CC1=NC2=CC=C(C(=O)C3=CC=CC=C3)C=C2N=C1C',\n 'CC(=NO)C(C)=NO',\n 'O=C(NC1=CC=CC=C1)NC1=CC=CC2=NC=CC=C12',\n 'NC1=CC=CC2=CC=CN=C12',\n 'O=C(O)C1=CC=C(C(=O)O)C=C1',\n 'O=C1NC=NC2=CC=CC=C12',\n 'CC1=C(SCC(=O)O)C(=O)C2=CC=CC=C2C1=O',\n 'O=C(O)CN1C(=O)C2=CC=CC=C2C1=O',\n 'O=C(O)C1CCCCC1C(=O)O',\n 'C1=CC=C2SC=NC2=C1',\n 'O=[N+]([O-])C1=CC=C(O)C([N+](=O)[O-])=C1',\n 'O=C([O-])C[NH+]1CCCCC1',\n 'O=C(O)C=CC1=CSC=C1',\n 'BrCCCCCCBr',\n 'CN1C(=NN)SC2=C1C=C1C(=C2)SC(=NN=C2SC3=CC=CC=C3N2C)N1C',\n 'O=CN1CCCCC1',\n 'NC1=CC=C(S(=O)(=O)N=C2NC=CS2)C=C1',\n 'FC1=C(F)C(Br)=C(F)C(F)=C1Br',\n 'C1=CC=C(C2=CN=C(C3=CC=CC=C3)O2)C=C1',\n 'O=C(O)C1=C(F)C(F)=C(C(=O)O)C(F)=C1F',\n 'FC1=C(F)C(C2=C(F)C(F)=C(Br)C(F)=C2F)=C(F)C(F)=C1Br',\n 'NC(CCCC[NH3+])C(=O)[O-]',\n 'CC(C)(CO)C(O)C(=O)NCCC(=O)O',\n 'OC1CCCCC1O',\n 'C[N+]1([O-])CCOCC1',\n 'CC(C)(C)C1=CC(C2=CN(CP(=O)(C3=CC=CC=C3)C3=CC=CC=C3)N=N2)=CC(C(C)(C)C)=C1',\n 'C1=CC2=NC(=C1)C1=NC(=CC=C1)CCCC1=CC=C(C=C1)OCCCCOC1=CC=C(C=C1)CCC2',\n 'O=P(C1CCCCC1)(C1CCCCC1)C1CCCCC1',\n 'CC(C)(OO)OO',\n 'N#CC1=CC=C(C2=CC=C(C#N)C=C2)C=C1',\n 'O=[N+]([O-])C1=CC=C(C2=CC=C([N+](=O)[O-])C=C2)C=C1',\n 'CCCCCCC(NS(=O)(=O)C1=CC=C(C)C=C1)C1=CNC(C2=CC=CC=C2)=N1',\n 'CCCCCCC(NS(=O)(=O)C1=CC=C(C)C=C1)C1=CN=C(C2=CC=CC=C2)N1',\n 'CC(C)C1=CC(=O)N(C2=CC=CC=C2)N1',\n 'CC(C)C1=NN(C2=CC=CC=C2)C(O)=C1',\n 'C1=CC=C2C(=C1)SC1=CC=CC=C12',\n 'COC1=CC2=C(C=C1OC)C13CCN4CC5=CCOC6CC(=O)N2C1C6C5CC43',\n 'C#CC(O)(C1=CC=CC=C1)C1=CC=CC=C1Br',\n 'CCOP(=O)(OCC)C(C)=C(C=CC1=CC=C([N+](=O)[O-])C=C1)C(F)(F)F',\n 'O=[N+]([O-])C1=CC=C([N+](=O)[O-])C=C1',\n 'O=C1C=CC(=O)C=C1',\n 'NC1=CC=C([N+](=O)[O-])C=C1[N+](=O)[O-]',\n 'ClC1=CC=C(C2=NN(C3=NC([N+]4=CN=CC=N4)=C([C-]4C=CC=C4)S3)C(C3=CC=C(Cl)C=C3)C2)C=C1',\n 'ClC1=CC=C(C2=NN(C3=NC(C4=CC=CC=C4)=C(N4C=NC=N4)S3)C(C3=CC=C(Cl)C=C3)C2)C=C1',\n 'C[N+]1(CC(=O)[O-])CCCCC1',\n 'C1=CC=C2SC(=C3SC4=CC=CC=C4S3)SC2=C1',\n 'NC1=CC=C([N+](=O)[O-])C=C1',\n 'NC(=S)NNC(=O)C1=CC=CC=C1N',\n 'NC(=S)NNC(=O)C1=NSN=C1N',\n 'CCN1C(Br)=NC2=C(N)N=CN=C21',\n 'CCC1(C2=CC=CC=C2)C(=O)NC(=O)NC1=O',\n 'CCC1(CC)C(=O)NC(=O)NC1=O',\n 'NC1=CC=CC=N1',\n 'CN(C)P(=O)(N(C)C)N(C)C',\n 'CN1C=CN=C1',\n 'CN1C=CC=CC1=O',\n 'NC1=NC2=CC=C(Br)C=C2S1',\n 'CC1=CC=C2C=CC=CC2=N1',\n 'CCC1=CC=CN=C1',\n 'CCC1CCCCN1',\n 'O=C(NC1=CC=C(NC(=O)C(O)C2=CC=CC=C2)C=C1)C(O)C1=CC=CC=C1',\n 'OC12OC3CC1C(C3Br)C2(Cl)Cl',\n 'O=C1C2CC(O)C(Br)C2C1(Cl)Cl',\n 'CN1C(=O)CN=C(C2=CC=CC=C2)C2=CC(Br)=CC=C21',\n 'OC(O)C(Cl)(Cl)Cl',\n 'O=C1C(Br)=CC(=C2C=C(Br)C(=O)C(Br)=C2)C=C1Br',\n 'COC1=C(OC)C(OC)=CC(C=CC2=CC(C=CC3=CC(OC)=C(OC)C(OC)=C3)=CC(C=CC3=CC(OC)=C(OC)C(OC)=C3)=C2)=C1',\n 'CC(=O)C(C)=O',\n 'CC1=CC=C(S(=O)(=O)NC(CCC(=O)O)C(=O)O)C=C1',\n 'NC1=NC(=O)NC=C1Br',\n 'O=C(C=CC1=CC=C2C=CC3=CC=CC4=CC=C1C2=C34)C1=CC=CC=C1',\n 'COC1=CC(C(=O)O)=CC=C1O',\n 'COC1=CC=C(C(=O)C=CC2=CC=C3C=CC4=CC=CC5=CC=C2C3=C45)C=C1',\n 'NC1=CC=C([N+](=O)[O-])C=C1N',\n 'O=C(O)C1=CC=C(O)C=C1O',\n 'CC(C)=NNC(=O)C1=CC=CN=C1',\n 'O=C1C(C2=CC=CC=C2)=C([O-])N(C2=CC=CC=C2)C(C2=CC=CC=C2)=[N+]1C1=CC=CC=C1',\n 'O=C1C(C2=CC=CC=C2)=C([O-])[N+](C2=CC=CC=C2)=C(C2=CC=CC=C2)N1C1=CC=CC=C1',\n 'CCOC1=C(OCC)C(=O)C(=C(C#N)C#N)C1=O',\n 'CC(CCC(N)=O)C1CCC2C3CCC4CC(O)CCC4(C)C3CCC12C',\n 'CCC(O)CC',\n 'CC(CCC1CC1(C)C)C1CCC2(C)C3CCC4C(C)(CCC(O)C4(C)C)C3=CCC12C',\n 'CC',\n 'CC1=CC(OCC2=CC=CC(Cl)=C2)=CC(=O)O1',\n 'NC(=O)OC1=CC=CC=C1',\n 'C(C=CC1=CC=NC=C1)=CC1=CC=NC=C1',\n 'C(=CC=CC1=CC=NC=C1)C=CC1=CC=NC=C1',\n 'CCOC(=O)C1=C(C)NC(C)=C(C(=O)OC)C1C1=CC=CC(Cl)=C1Cl',\n 'CC(O)=C1C(=O)C=C2OC3=C(C4=CSC(C5=CC=CC=C5)=N4)C(O)=C(C)C(O)=C3C2(C)C1=O',\n 'CC(=O)C1=C(O)C=C2OC3=C(C4=CSC(C5=CC=CC=C5)=N4)C(O)=C(C)C(O)=C3C2(C)C1=O',\n 'CC1=C(C(=O)C2=CC=CC=C2)SC2=CC=CC=C2N1',\n 'CC1=NC2=CC=CC=C2S1',\n 'BrC(Br)=C(Br)Br',\n 'OC1=CC=C(C(C2=CC=CC=C2)(C2=CC=CC=C2)C2=CC=CC=C2)C=C1',\n 'CC(C)=NNC(N)=S',\n 'C[N+]1=C(C=C(C#N)C2=CC=C([C-](C#N)C#N)C=C2)C(C)(C)C2=CC=CC=C21',\n 'CC(C)CC([NH3+])C(=O)[O-]',\n 'CCC([NH3+])C(=O)[O-]',\n 'CCCC([NH3+])C(=O)[O-]',\n 'CSCCC([NH3+])C(=O)[O-]',\n 'CC(C)C([NH3+])C(=O)[O-]',\n 'O=C(O)C12CCCC(C(=O)O)(C1)C(C1CC1)(C1CC1)O2',\n 'C',\n 'IC(I)=C(I)I',\n 'CN(C)C1=NC=NC2=C1N=CN2',\n 'CC1=C([NH+]=C(C2=CC=CC=C2)N(C)[O-])C(C)=CC=C1',\n 'CC1=C(N=C(C2=CC=CC=C2)N(C)O)C(C)=CC=C1',\n 'C1CCC2=C(C1)SC(=C1SC3=C(CCCC3)S1)S2',\n 'COC(=O)C1=CC2=C(C=C1C(=O)OC)OCC1=CC3=C(C=C1CO2)COC1=C(OC3)C2=CC=CC=C2C2=CC=CC=C12',\n 'COC(=O)C1=CC=C2OCC3=CC4=C(C=C3COC2=C1)COC1=C(OC4)C2=CC=CC=C2C2=CC=CC=C12',\n 'C(=CC1=CC=CN=C1)C1=CC=NC=C1',\n 'NC1=CC=C(S(=O)(=O)NC2=CC=CC=N2)C=C1',\n 'NC1=CC=C(S(=O)(=O)N=C2C=CC=CN2)C=C1',\n 'CN1C2CCCC1CC(OC(=O)NC1=NC3=CC=CC=C3N1)C2',\n '[C]',\n 'C(#CC1=CC=C(C#CC2=CC=CC=C2)C=C1)C1=CC=CC=C1',\n 'FC1=C(F)C(F)=C(C#CC2=C(F)C(F)=C(C#CC3=C(F)C(F)=C(F)C(F)=C3F)C(F)=C2F)C(F)=C1F',\n 'O=C1CC2C3CC(CN2C=C1Br)C1CCCCN1C3',\n 'O=C1CCC(=O)N1',\n 'CC([NH3+])C(=O)[O-]',\n 'CC(OC1=CC=CC=C1)C(=O)O',\n 'CC1(C)CC(C)(C2=CC=C(O)C=C2)C2=CC=CC=C2O1',\n 'CC1(C)CC(C)(C2=CC=C(O)C=C2)C2=CC=CC=C2S1',\n 'CN(C)C(=O)N(C)C',\n 'CN(C(=O)N(C)C1=CC=CC(C(=O)O)=C1)C1=CC=CC(C(=O)O)=C1',\n 'C1=CC(C2=CC=C(C3=CC=NC=C3)C=C2)=CC=N1',\n 'C1=CC(C2=CC=C3C=C4C=C(C5=CC=NC=C5)C=CC4=CC3=C2)=CC=N1',\n 'O=C1CNC(=S)N1',\n 'CN1C=NC2=C(N)N=CN=C21',\n 'COC1=CC(CC2=CN=C(N)N=C2N)=CC(OC)=C1OC',\n 'O=C(O)C1=CC=C(C(=O)O)S1',\n 'OC(C1=CC=C(F)C=C1)(C1=CC=C(F)C=C1)C1OC2(CCCCC2)OC1C(O)(C1=CC=C(F)C=C1)C1=CC=C(F)C=C1',\n 'ClC1CCCCC1',\n 'BrC1CCCCC1',\n 'CC1=NN(C2=C(N3N=C(C)C=C3C)C(N3C=CC=N3)=C(N3N=C(C)C=C3C)C(N3N=C(C)C=C3C)=C2N2C=CC=N2)C(C)=C1',\n 'CCCCC(=O)O',\n 'CCC(C)C(=O)O',\n 'O=C1NC=C(F)C(=O)N1',\n 'OCC(F)(F)F',\n 'C1=[S]C(=C2[S]=CC=[S]2)[S]=C1',\n 'COC(=O)C(C#N)C(C#N)C(=O)OC',\n 'CN1C(=O)C=CNC1=O',\n 'O=C1C=CC(O)=NN1',\n 'C1N2CN3CN1CN(C2)C3',\n 'OC(C(O)C(O)(C1=CC=CC=C1)C1=CC=CC=C1)C(O)(C1=CC=CC=C1)C1=CC=CC=C1',\n 'NC1=CC=C(S(=O)(=O)C2=CC=C(N)C=C2)C=C1',\n 'CCOC(=O)CC1(C)C(=CC2=CC=CC=C2)CCCC12OCCS2',\n 'IC#CC1=CC=C(I)C=C1',\n 'CC1=CC2=C(C=C1C)N(CC1=CC=C(Br)C=C1)C=N2',\n 'C1=CC=C(C2=CC=NC=C2)C=C1',\n 'C1=CC=C2C(=C1)N=CN2CC1=CC=C(CN2C=NC3=CC=CC=C32)C=C1',\n 'N#CC(C#N)=C1C=C(F)C(=C(C#N)C#N)C=C1F',\n 'C1COCCOCCNCCOCCOCCN1',\n 'O=C(C1=CC=C(O)C=C1)C1=CC=C(O)C=C1',\n 'NC1=NC(N)=NC(C2=CC=CC=C2)=N1',\n 'C1=CC=C2SC3=CC=CC=C3NC2=C1',\n 'CNC(=O)C1=CC=CC=C1',\n 'BrC1=CC=C2C=CC3=CC=CN=C3C2=N1',\n 'CC1(C)CNC(C(F)(F)F)=N1',\n 'CC1(C)CN=C(C(F)(F)F)N1',\n 'CN1C(C(=O)NC2=CC=CC=N2)=C(O)C2=CC=CC=C2S1(=O)=O',\n 'CN1C(C(=O)NC2=[NH+]C=CC=C2)=C([O-])C2=CC=CC=C2S1(=O)=O',\n 'COC1=CC=C(C(=O)O)C(O)=C1',\n 'O=C(O)C(Cl)Cl',\n 'COC1=NC(OC)=C([N+](=O)[O-])N=C1[N+](=O)[O-]',\n 'CC(C)(C)C1=CC(OCC#CC#CCOC2=CC(C(C)(C)C)=CC(C(C)(C)C)=C2)=CC(C(C)(C)C)=C1',\n 'C1=CC2=NC(=C1)C1=CC=C(C=C1)C1=CC=C(C=C1)C1=CC=C(C=C1)C1=CC=C(C=C1)C1=CC=C2C=C1',\n 'NC(=O)P',\n 'CC(=O)NC1=CC=C(O)C=C1',\n 'CC(C)C1=CC=C(N2C(=O)NC(=O)N(C3=CC=C(C(C)C)C=C3)C2=O)C=C1',\n 'CCCCN(CCCC)C1=NC(N)=NC(NC2=CC=C(C(C)(C)C)C=C2)=N1',\n 'O=C(O)C=CC1=CC=C([N+](=O)[O-])C=C1[N+](=O)[O-]',\n 'COC1=CC=C(C=CC(=O)O)C=C1OC',\n 'CCC(=O)NNC(=O)C1=CC=C(C)C=C1O',\n 'CC1=CC=C(C(=O)NNC(=O)C2=CC=C(C)C=C2O)C(O)=C1',\n 'CC(C)(C)NC1=CC(C(C)(C)C)=CC(C(C)(C)C)=C1O',\n 'CC(C)(C)[NH+]=C1C=C(C(C)(C)C)C=C(C(C)(C)C)[C]1[O-]',\n 'C1=CC=C(C2(NCCNC3(C4=CC=CC=C4)C4=CC=CC=C4SC4=CC=CC=C43)C3=CC=CC=C3SC3=CC=CC=C32)C=C1',\n 'COC1=CC=CC=C1',\n 'COC1=CC=CC(C)=C1',\n 'NC1=CC=CC([N+](=O)[O-])=C1',\n 'NS(=O)(=O)C1=CC(C(=O)O)=C(NCC2=CC=CO2)C=C1Cl',\n 'CCC1=C(CN2C=C(C3=CC=CC=C3)C=N2)C(CC)=C(CN2C=C(C3=CC=CC=C3)C=N2)C(CC)=C1CN1C=C(C2=CC=CC=C2)C=N1',\n 'NC1CCCCC1',\n 'OC(C1=CC=C(Cl)C=C1)(C1=CC=C(Cl)C=C1)C1CC2C3=CC=CC=C3C1C1=CC=CC=C12',\n 'O=C(O)C1=CC=CC(O)=C1O',\n 'O=C(O)C1=CC=CC(O)=C1',\n 'O=C(O)C1=CC=CC=C1C1=CC=CC=C1C(=O)O',\n 'NC1=NN=C(C2=CC=C(Br)C=C2)S1',\n 'O=C(C1=CC=NC=C1)N1CCC(CCCC2CCN(C(=O)C3=CC=NC=C3)CC2)CC1',\n 'O=C(NCCCCCCCCNC(=O)C1=CC=CN=C1)C1=CC=CN=C1',\n 'FC(F)(I)C(F)(F)C(F)(F)C(F)(F)C(F)(F)C(F)(F)I',\n 'O=C(NCCCCCCNC(=O)C1=CC=CN=C1)C1=CC=CN=C1',\n 'O=C(NCCCCNC(=O)C1=CC=CN=C1)C1=CC=CN=C1',\n 'O=C(NCCNC(=O)C1=CC=CN=C1)C1=CC=CN=C1',\n 'CC1=NC2=CC=CC=C2N=C1C',\n 'OC1=CC=CC=C1',\n 'C1=CN=C2C(=C1)C=C1CCC3=C1C2=C1N=CC=CC1=C3',\n 'OC1=CC=CC=C1C1=CC=CC=C1O',\n 'OC1=CC=C(SC2=CC=C(O)C=C2)C=C1',\n 'O=C(O)CSCC1=CC=C(CSCC(=O)O)C=C1',\n 'N#CC1=NC(C#N)=C(C#N)N=C1C#N',\n 'O=C1C2=CC=C3C(=O)N(C4=CC=NC=C4)C(=O)C4=CC=C(C(=O)N1C1=CC=NC=C1)C2=C34',\n 'OC1=CC=CC2=C(O)C=CC=C12',\n 'OC1=CC=C2C=C(O)C=CC2=C1',\n 'O=C1C2=CC3=C(C=C2C(=O)N1CC1=CC=NC=C1)C(=O)N(CC1=CC=NC=C1)C3=O',\n 'O=C1C2=CC3=C(C=C2C(=O)N1CC1=CC=CC=N1)C(=O)N(CC1=CC=CC=N1)C3=O',\n 'CN(C)C1=CC=C(NC(=O)NC(=O)CC2=CC=CC=C2)C=C1',\n 'CC(C)CNC(=O)NC(=O)C1=CC=C([N+](=O)[O-])C=C1',\n 'O=C(O)C1=CC=C(F)C=C1F',\n 'O=C(O)C1=CC(F)=CC(F)=C1',\n 'O=C(O)C1=CC=C(F)C(F)=C1F',\n 'O=C(O)C1=CC(F)=C(F)C=C1F',\n 'O=C(O)C1=CC=C(F)C(F)=C1',\n 'COC1=CC=C(C2=NN(C(C)=O)C(C3=C4C=CC=CC4=CC4=CC=CC=C34)C2)C=C1',\n 'O=C(O)C1=C(F)C=C(F)C=C1F',\n 'O=C(O)C1=CC(F)=C(F)C(F)=C1',\n 'C[N+]1(CC(=O)[O-])CC[N+](C)(CC(=O)[O-])CC1',\n 'IC1=CN=C(I)N1',\n 'IC1=CN=CN1',\n '[O-][N+]1=C2C(=NO1)C1=[N+]([O-])ON=C1C1=[N+]([O-])ON=C21',\n 'C1=C2CCC3=CC=C(CCC(=C1)S2)S3',\n 'O=C1C(=NNC2=CC=CC=C2)C(=O)C2=CC=CC=C12',\n 'O=C(C1=CC=CC=C1)N(N=C1C(=O)C2=CC=CC=C2C1=O)C1=CC=CC=C1',\n 'FC1=C(F)C(F)=C(C2=C(F)C(F)=C(F)C(F)=C2F)C(F)=C1F',\n 'CCOP(=O)(OCC)OCC',\n 'N1=C2C3=NON=C3C3=NON=C3C2=NO1',\n 'CC(=O)OC(C)(C)C',\n 'CC1(C)CC#CCNC(=O)C(C)(C)CC#CCNC(=O)C(C)(C)CC#CCNC1=O',\n 'C1CCNC1',\n 'OC(C1=CC=C(C(O)(C2=CC=CS2)C2=CC=CS2)C=C1)(C1=CC=CS1)C1=CC=CS1',\n 'CN1C=CC(N)=NC1=O',\n 'NC1=NC2=C(N=CN2CCC(=O)O)C(=O)N1',\n 'CC(C)CCNC(=O)NC(=O)C1=CC=C([N+](=O)[O-])C=C1',\n 'CN(C)C1=CC=C(NC(=O)NC(=O)CCC2=CC=CC=C2)C=C1',\n 'CC1C2=CC(=C(O)C=C2O)C(C)C2=CC(=C(O)C=C2O)C(C)C2=CC(=C(O)C=C2O)C(C)C2=CC1=C(O)C=C2O',\n 'N#CC1=CC(NC(=O)NC2=CC=CC(C#N)=C2)=CC=C1',\n 'NC(=O)C1=CC([N+](=O)[O-])=CC([N+](=O)[O-])=C1',\n 'IC1=CC=C(I)C=C1',\n 'O=C1NC(=O)NC(=O)N1',\n 'O=C(O)C1=CC=C(Br)C=C1',\n 'N#CC1=CC=NC=C1',\n 'OC1=C(F)C(F)=C(Br)C(F)=C1F',\n 'COS(=O)(=O)OC',\n 'C1CCN2CC3CC(CN4CCCCC34)C2C1',\n 'ON=CC1=C(F)C(F)=C(I)C(F)=C1F',\n 'CC1=C(C)N=C(C)C(C)=N1',\n 'O=C(O)C1=C(F)C(F)=C(I)C(F)=C1F',\n 'ON=CC1=C(F)C(F)=C(Br)C(F)=C1F',\n 'OC1=C(F)C(F)=C(I)C(F)=C1F',\n 'CNC(=S)NC',\n 'CN1C=C(Br)C(=O)NC1=O',\n 'CCN1C=NC2=CN=C(N)N=C21',\n '[C-]#[N+]C',\n 'C1=COC=C1',\n 'OC1=C(Cl)C(Cl)=C(O)C(Cl)=C1Cl',\n 'NC1=CC2=NC3=CC=CC=C3OC2=CC1=O',\n 'O=C1CCC(=O)O1',\n 'CC1=CC=C(C2(O)C(=O)OC3C(O)COC32O)O1',\n 'C1=CC=C2C(=C1)C=CC1=CC3=C(C=CC4=CC=CC=C43)C=C12',\n 'O=C1OC(=O)C2=CC=C3C(=O)OC(=O)C4=CC=C1C2=C43',\n 'C1=CC=C2C=C3C(=CC2=C1)C=CC1=CC=CC=C13',\n 'N#CC1=C(C#N)C(=O)C(Cl)=C(Cl)C1=O',\n 'C1=CC=C2C(=C1)C=CC1=CC=C3C=CC=CC3=C12',\n 'C1=CC=C(NC2=CC=CC=C2)C=C1',\n 'O=C(C1=CC=CC=C1)C1=CC=CC=C1',\n 'C1=CC=C2C(=C1)C=CC1=CC=CN=C12',\n 'NC1=CC=C(C2=CC=C(N)C=C2)C=C1',\n 'CC(C)(C)[P](=O)C1=CC=CC=C1',\n 'CC(C(=O)O)C1=CC=CC=C1',\n 'O=C(O)C(O)C1=CC=C(Cl)C=C1',\n 'O=C(O)C(CO)C1=CC=CC=C1',\n 'CCCCCCCCCOC1=CC=C(C2=NN=C(C3=CC=NC=C3)S2)C=C1',\n 'CCCCCCCCCCOC1=CC=C(C2=NN=C(C3=CC=NC=C3)O2)C=C1',\n 'CCCCCCCCCOC1=CC=C(C2=NN=C(C3=CC=NC=C3)O2)C=C1',\n 'CCCCCCCCOC1=CC=C(C2=NN=C(C3=CC=NC=C3)O2)C=C1',\n 'CCCCCCCOC1=CC=C(C2=NN=C(C3=CC=NC=C3)O2)C=C1',\n 'CCCCCCOC1=CC=C(C2=NN=C(C3=CC=NC=C3)O2)C=C1',\n 'CCCCCCCCOC1=CC=C(N=NC2=C(F)C(F)=C(I)C(F)=C2F)C=C1',\n 'CCOC1=CC=C(C=CC2=CC=NC=C2)C=C1',\n 'CCCCCCCCCCCCOC1=CC=C(N=NC2=C(F)C(F)=C(I)C(F)=C2F)C=C1',\n 'COC1=CC=C(C=CC2=CC=NC=C2)C=C1',\n 'CCCCCCCCCCOC1=CC=C(N=NC2=C(F)C(F)=C(I)C(F)=C2F)C=C1',\n 'CC1=CC=CC(O)=C1',\n 'C(#CC1=CC=NC=C1)C1=CC=NC=C1',\n 'O=C1C(O)=C(Br)C(=O)C(O)=C1Br',\n 'O=C(NCC1=CC=CN=C1)C(=O)NCC1=CC=CN=C1',\n 'O=C(O)CNC(=O)C(=O)NCC(=O)O',\n 'O=C(O)CNC(=O)NCC(=O)O',\n 'O=C(NCC1=CC=CN=C1)NCC1=CC=CN=C1',\n 'O=C(NCC1=CC=NC=C1)NCC1=CC=NC=C1',\n 'OC1=C(Cl)C=C(Cl)C=C1Cl',\n 'CC1=NN=C2CN=C(C3=CC=CC=C3)C3=CC(Cl)=CC=C3N12',\n 'NC1=NC=CC=N1',\n 'CCCC1=CC(=O)NC(=S)N1',\n 'O=C(O)C1=CC=C(Cl)C([N+](=O)[O-])=C1',\n 'C1=CC=C2C=NN=CC2=C1',\n 'CC1=C(Br)C=CC=C1C(=O)O',\n 'C1=NC=CC(CC(C2=CC=NC=C2)C(CC2=CC=NC=C2)C2=CC=NC=C2)=C1',\n 'NC1=CC=CC2=C(N)C=CC=C12',\n 'CC1CCCC(C)N1',\n 'OC1(C#CC2(O)C3=CC=CC=C3C3=CC=CC=C32)C2=CC=CC=C2C2=CC=CC=C21',\n 'CC1CCNCC1',\n 'OC1(C2=CC=C(C3(O)C4=CC=CC=C4C4=CC=CC=C43)C=C2)C2=CC=CC=C2C2=CC=CC=C21',\n 'O=C1C(O)=C(O)C1=O',\n 'O=C1CCCCCN1',\n 'C=C(C)C(=O)OCCCCCCOC1=CC=C(C=CC2=CC=NC=C2)C=C1',\n 'C1=CC2=C(S1)C1=C(C=CS1)S2',\n 'CSC1=NC2=CC(Cl)=C(OC3=CC=CC(Cl)=C3Cl)C=C2N1',\n 'CN1[N]C(C2=CC=CC=N2)=NN(C)C1=S',\n 'S=C1C=CNC(=S)N1',\n 'O=C1NC=C(Cl)C(=O)N1',\n 'O=C1NC=C(I)C(=O)N1',\n 'NC1=NC(C2=CC=CC=C2)=CS1',\n 'C1=CN(CCCCN2C=CN=C2)C=N1',\n 'C1=CC=C2C(=C1)N=CN2CCCN1C=NC2=CC=CC=C21',\n 'C1=CC=C2C(=C1)N=CN2CCCCN1C=NC2=CC=CC=C21',\n 'CC1=CC(C)=C2C=CC(N)=NC2=N1',\n 'C1=CC=C(C2=NC(C3=CC=CC=N3)=NC(C3=CC=CC=N3)=N2)N=C1',\n 'NC1=NC(N)=NC(N)=N1',\n 'C1=CN=CN=C1',\n 'O=C(O)C1=CC=C(Br)S1',\n 'CC(=O)OC1CCC2(C)C3=C(CCC2C1(C)C)C1(C)CCC2(C)CCC(C(C)C)C2C1(C)CC3',\n 'CC(=O)OC1CCC2(C)C3=CCC4(C)C5C(C(C)C)CCC5(C)CCC4(C)C3CCC2C1(C)C',\n 'CCN1CCOC2C3=C4C(=CNC4=CC=C3)CC21',\n 'CC1=CC=C(C(=O)OC(C(=O)O)C(OC(=O)C2=CC=C(C)C=C2)C(=O)O)C=C1',\n 'O=C(NC1C2C=CC(C2)C1C(=O)O)C1=CC=CC=C1',\n 'OCC1CCCCC1NCC1=CC=CC=C1',\n 'O=C1OC2=C3C=CC=CC3=CC=C2C12C1=CC=C3C=CC=CC3=C1OC1=C3C=CC=CC3=CC=C12',\n 'NC1=NC=NN1',\n 'CC1=CC(C2=CC(O)=NN2)=C(C)O1',\n 'CCOC(=O)NN=C(C)C',\n 'CCCC1=NC2=C(C)C=C(C(=O)NCCC3=CC=CC=C3)C=C2N1',\n 'CCCC1=NC2=CC(C(=O)NCCC3=CC=CC=C3)=CC(C)=C2N1',\n 'COC1=CC=C(C=NNC(=O)C2=CC=NC=C2)C=C1',\n 'COC1=CC=C(C2=NC(N)=NC(N)=N2)C=C1',\n 'NC1=NNC(=S)N1',\n 'CNC(N)=S',\n 'NC(N)=NC1=NC2=CC=CC=C2N1',\n 'I[IH][S]=C1NC2=CC=CC=C2S1',\n 'S=C1NC2=CC=CC=C2S1',\n 'O=C(NC1=CC=CC=C1)NC1=CC=CC=C1',\n 'O=C(NC1=C(F)C(F)=C(F)C(F)=C1F)NC1=C(F)C(F)=C(F)C(F)=C1F',\n 'CC(C)(NC(=O)NCC1=CC=NC=C1)C1=CC=CC(C(C)(C)NC(=O)NCC2=CC=NC=C2)=C1',\n 'O=C(O)C(F)(F)F',\n 'CN1C(=O)C2=C(SC3=C(S2)C(=O)N(C)C3=O)C1=O',\n 'O=CNNC=O',\n 'COC1=CC=CC=C1OCCOCCOC1=CC=CC=C1OC',\n 'O=C1C=CC(=O)C2=C1C(=O)C=CC2=O',\n 'CC(=O)C1=CC=C(N)C=C1',\n '[N-]=[N+]=NC1=C(F)C(F)=C(C(=O)O)C(F)=C1F',\n 'N#CCCCNC(=O)C(=O)NCCCC#N',\n 'IC#CC#CI',\n 'CC1=CC=CC=C1C(=O)O',\n 'O=C(O)C1=CC=CC(Br)=C1',\n 'O=C(O)C1=CC=CC=C1Br',\n 'O=C(O)C1=CC=CC=C1Cl',\n 'O=C(O)C1=CC=CC=C1[N+](=O)[O-]',\n 'CC1=CC=CC(C(=O)O)=C1',\n 'CC1=CC=C(C(=O)O)C=C1',\n 'C1=CC=C2C=CC=CC2=C1',\n 'FC(F)(Br)C(F)(F)C(F)(F)C(F)(F)Br',\n 'C1CN2CCN1CC2',\n 'FC(F)(Br)C(F)(F)C(F)(F)C(F)(F)C(F)(F)C(F)(F)Br',\n 'FC(F)(Br)C(F)(F)C(F)(F)C(F)(F)C(F)(F)C(F)(F)C(F)(F)C(F)(F)Br',\n 'N#CN',\n 'CC(Cl)S(N)(=O)=O',\n 'N#CCCCCC#N',\n 'COC(=O)C1=CC=C(N)C=C1',\n 'OC1=CC=C(I)C=C1',\n 'CC1=C2SC(=C3SC4=C(C)N(C5=CC=CC=C5)C(C)=C4S3)SC2=C(C)N1C1=CC=CC=C1',\n 'FC1=C(F)C(I)=C(F)C(I)=C1F',\n 'OC1(C(F)(F)F)C=C(C2=CC=CC=C2)N2C3=CC=CC=C3C=C(Br)C2O1',\n 'BrC1=CN=C2C=CC=CC2=C1',\n 'O=C(NCC1=CC=CC=N1)NCC1=CC=CC=N1',\n 'COC(=O)C1=C(C(=O)OC)N(C2=CC=CC=C2)C(=C2SC(C(=O)OC)=C(C(=O)OC)N2C2=CC=CC=C2)S1',\n 'CCOC(=O)C1=CNC=NC1=O',\n 'CCOC(=O)C1=CN=CNC1=O',\n 'CCC1=CC=NC=C1',\n 'CC(C)(NC(=O)NNC(=O)C1=CC=NC=C1)C1=CC=CC(C(C)(C)NC(=O)NNC(=O)C2=CC=NC=C2)=C1',\n 'O=C(O)C1C(C(=O)O)C(C(=O)O)C1C(=O)O',\n 'CC1=C(C2=CC=CC=C2)OS(=O)(=O)N=C1O',\n 'OC1=CC=CC2=C3C=CC=C(O)C3=C12',\n 'CC1=CC(=O)C=C(C)N1C',\n 'COC(C)C1S(=O)CCS1=O',\n 'CC=C1S(=O)CCS1=O',\n 'OC1=CC(C2=CC=C3C=CC=CC3=N2)=NC(C2=CC=C3C=CC=CC3=N2)=C1',\n 'O=C1C=C(C2=CC=C3C=CC=CC3=N2)NC(C2=CC=C3C=CC=CC3=N2)=C1',\n 'N#CCCN1CCOCCOCCN(CCC#N)CCOCCOCC1',\n 'N#CCC#N',\n 'C1=CC=C2C(=C1)C=CC1=C3C=CC=CC3=CC=C21',\n 'O=C1C(F)=C(F)C(=O)C(F)=C1F',\n 'O=C1NC(=O)C2=CC=CC=C12',\n 'CCCCN(CC1=CC=CC=C1)C(=O)CCC(=O)N(CCCC)CC1=CC=CC=C1',\n 'O=C1NCC2=CC=C(C=C2)CNC(=O)C2=CC=CC(=C2)C(=O)NCC2=CC=C(C=C2)CNC(=O)C2=CC=CC1=C2',\n 'CCCCN(CC1=CC=CO1)C(=O)CCC(=O)N(CCCC)CC1=CC=CO1',\n 'NC(=O)C(Br)(Br)Br',\n 'CC1=CC(O)=NS(=O)(=O)O1',\n 'CN(C)C1=CC=C(C=O)C=C1',\n 'CC1=CC=C([NH+]=NC2=C([O-])C=CC3=CC=CC=C23)C=C1',\n '[O-]C1=CC=C2C=CC=CC2=C1N=[NH+]C1=CC=CC2=CC=CC=C12',\n '[O-]C1=C(N=[NH+]C2=CC=C(Cl)C=C2)C2=CC=CC=C2C=C1',\n '[O-]C1=C(N=[NH+]C2=CC=C(F)C=C2)C2=CC=CC=C2C=C1',\n 'O=C(O)CC(=O)O',\n 'CN1CC(=O)N2C(CC3=C(NC4=CC=CC=C34)C2C2=CC=C3OCOC3=C2)C1=O',\n 'CC1=CC(O)=C(C)C=C1O',\n 'CC1=CC(=O)C(C)=CC1=O',\n 'CC(=O)NC1=CC=CC=N1',\n 'O=C(NC1=CC=CC=N1)C12CC3CC(CC(C3)C1)C2',\n 'CC1=CC=CC(NC(=O)C(C)(C)C)=N1',\n 'CC1=CC=CC(NC(=O)C23CC4CC(CC(C4)C2)C3)=N1',\n 'CCC(=O)NC1=CC=CC(C)=N1',\n 'CC[N+]1(CC(=O)[O-])CCCCC1',\n 'COC1=C([N+](=O)[O-])C=C([N+](=O)[O-])C=C1[N+](=O)[O-]',\n 'OC1=CC=C(C2=CC=CC=C2)C=C1',\n 'CNC(=NC#N)NCCSCC1=C(C)NC=N1',\n 'CNC(=NC#N)NCCSCC1=C(C)N=CN1',\n 'C1=CC=C2OCCOCCOCCOCCOCCOC2=C1',\n 'CCOC1=CC=C(CC2=CC(C3OC(CO)C(O)C(O)C3O)=CC=C2Cl)C=C1',\n 'O=C([O-])C1CCC[NH2+]1',\n 'C1=CN=CC(CN2C=NC3=CC=CC=C32)=C1',\n 'O=C(O)C1=CC(C(=O)O)=C(C(=O)O)C=C1C(=O)O',\n 'NN1C=NN=C1',\n 'COP(=O)(O)OC',\n 'O=C1C2=CC=C3C(=O)N(CCCN4C=CN=C4)C(=O)C4=CC=C(C(=O)N1CCCN1C=CN=C1)C2=C34',\n 'O=C(O)C1=CC=C2C=CC=CC2=C1C1=C(C(=O)O)C=CC2=CC=CC=C12',\n 'ClP1(Cl)=NP(Cl)(Cl)=NP(NC2=CC=C3OCCOC3=C2)(NC2=CC=C3OCCOC3=C2)=N1',\n 'ClP1(Cl)=NP(Cl)(Cl)=NP(NC2=CC=C3OCCOC3=C2)(NC2=CC=C3OCCOC3=C2)=N1',\n 'O=C(O)C=CC1=CC=CS1',\n 'NC1=CC=CC=C1N',\n 'O=C(NCCCCNC(=O)C1=CC=NC=C1)C1=CC=NC=C1',\n 'O=C(O)CCCCCCC(=O)O',\n 'O=C(NCCCCCCCCNC(=O)C1=CC=NC=C1)C1=CC=NC=C1',\n 'O=C(O)CCCCCCCCC(=O)O',\n 'O=C(O)CCCCCCCCCCC(=O)O',\n 'OC(C1=CC=CC=C1)(C1=CC=CC=C1)C1=CC(Cl)=CC(Cl)=C1C1=C(Cl)C=C(Cl)C=C1C(O)(C1=CC=CC=C1)C1=CC=CC=C1',\n 'CC1CCNC1=O',\n 'C1=CC=C2C(CCOC3CCCCC3N3CCC4(C3)OCCO4)=CC=CC2=C1',\n 'C1=CC=C2C(=C1)N=CN2CN1C=NC2=CC=CC=C21',\n 'C1=CC=C2C(=C1)C1CC2C2=CC3=C(C=C21)C1CC3C2=CC3=CC4=C(C=C3C=C21)C1CC4C2=CC3=C(C=C21)C1CC3C2=CC=CC=C21',\n 'O=C(O)CC1=CC=C([N+](=O)[O-])C=C1',\n 'C(=NN=CC1=CC=NC=C1)C1=CC=NC=C1',\n 'C(=NN=CC1=CC=CN=C1)C1=CC=CN=C1',\n 'C(=NN=CC1=CC=CC=N1)C1=CC=CC=N1',\n 'C1=CN2C(=N1)N1C=CN=C1N1C=CN=C21',\n 'CN1C(=O)C2=C(N=CN2)N(C)C1=O',\n 'O=C(O)CC(O)C(=O)O',\n 'CC1=C(C)C(C)=C(C)C(C)=C1C',\n 'OC1=CC=C(C2=CC=C(O)C=C2)C=C1',\n 'CC(C)(C)C(=O)NC1=CC=C(C2=CC=C(NC(=O)C(C)(C)C)N=C2)C=N1',\n 'N#CNC#N',\n 'CC(C)NC(=NC1=CC(N=C(NC(C)C)NC(C)C)=C(N=C(NC(C)C)NC(C)C)C=C1N=C(NC(C)C)NC(C)C)NC(C)C',\n 'CC(=O)C(C)(C)C',\n 'CC(CCC(=O)O)C1CCC2C3CCC4CC(O)CCC4(C)C3CC(O)C12C',\n 'CCOC(=O)C1=CC=CC=N1',\n 'OC1=C(F)C(F)=C(F)C(F)=C1F',\n 'O=C([O-])C1CC(O)C[NH2+]1',\n 'CC1=NN(C2=CC=CC=C2)C(C)=C1',\n 'NC(=S)NN=C1CCCC2=CC=CC=C12',\n 'N#CCCCCNC(=O)C(=O)NCCCCC#N',\n 'O=C(O)CNC(=O)OCC1C2=CC=CC=C2C2=CC=CC=C21',\n 'O=C1C(O)=C(C2=CC=CC=C2)OC2=CC=C(O)C=C12',\n 'O=C1C(O)=C(C2=CC=C(O)C(O)=C2)OC2=CC(O)=CC(O)=C12',\n 'IC#CC1=CC=C(C#CI)C=C1',\n 'CCCCCCCCCCOC1=CC=NC=C1',\n 'CCCCCCCCCCOC1=CC=C(C#N)C=C1',\n 'OC(O)O',\n 'O=C1CCC2(CCC3=C2C(OS(=O)(=O)C(F)(F)F)=CC=C3)N1',\n 'O=S(=O)(NC1=CC=CC=C1)C(F)(F)F',\n 'N#CC(C#N)=C(C#N)C#N',\n 'C1=C2C=CC(=C1)CCC1=CC=C(C=C1)CCC1=CC=C(C=C1)CC2',\n 'C1=C2C=CC(=C1)CCC1=CC=C(C=C1)CCC1=CC=C(C=C1)CCC1=CC=C(C=C1)CC2',\n 'C1=CC=C2OCCOCCOCCOC3=CC=CC=C3OCCOCCOCCOC2=C1',\n 'COC(=O)C1=CC=C(COCC(C)(C)CN(CC2=CC=C(COC(=O)C3=CC(C)=CC(C)=C3)C=C2)C(=O)C(F)(F)F)C=C1',\n 'CC1=CC=CC(S(C)=O)=C1',\n 'CC1=C(C)C(N)=C(C)C(C)=C1N',\n 'N=C(N)C1=CC=CC=C1',\n 'CC(C)C1OC(OCC(=O)O)C(C)(C)C(C(C)C)O1',\n 'O=C1C=CC(=O)C(Cl)=C1',\n 'O=C1C2=C(F)C(F)=C(F)C(F)=C2C(=O)C2=C(F)C(F)=C(F)C(F)=C12',\n 'C1=CC=C2C=C3C=C4C=CC=CC4=CC3=CC2=C1',\n 'COC1=CC(C(=O)O)=CC(OC)=C1O',\n 'CC1=C(C)C=C2C(=C1)C1(OP2(C2=CC=CC=C2)(C2=CC=CC=C2)C2=CC=CC=C2)C(=O)N(C)C2=CC=CC=C21',\n 'O=C1CCCC1',\n 'COC1=CC=C(C2=NN(C3=CC=CC=C3)C(C3=NC4=CC=CC=C4S3)C2)C=C1',\n 'COC1=CC=C(C2CC(C3=NC4=CC=CC=C4S3)=NN2C2=CC=CC=C2)C=C1',\n 'CC1=CC(C2=CC=CN=C2)=NC(N)=N1',\n 'CC1=CC(C2=CC=NC=C2)=NC(N)=N1',\n 'O=C(O)C1=CC=C(I)C=C1',\n 'COC1=CN=CC(C#CC2=CC(C)=NC(N)=N2)=C1',\n 'NC1=NC(=O)N(C2CSC(CO)O2)C=C1',\n 'O=C1C=CNC2=CC=CC=C12',\n 'CC1=CC(=O)C=C(C)O1',\n 'CNCC1CN(C2=CC=C(OCC3=CC=CC(Cl)=C3)C=C2)C(=O)O1',\n 'CS(=O)(=O)O',\n 'OC1=CC=CC2=CC=CC=C12',\n 'NNC1=CC=C([N+](=O)[O-])C=C1[N+](=O)[O-]',\n 'CS(C)(=O)=O',\n 'COC(=O)C#CC(=O)OC',\n 'CC1(C)CC(C)(C2=CC=C(N3C(C4=CC=CC=C4)=NC4=CC=CC=C4C3=O)C=C2)C2=CC=CC=C2O1',\n 'CC1CCCCC1',\n 'CN1C=NC2=C1C(=O)NC(=O)N2C',\n 'OC1=CC=C2C=CC(O)=CC2=C1',\n 'CC1=NC=C([N+](=O)[O-])N1CC(O)CCl',\n 'O=C(O)C1=CC=C([N+](=O)[O-])C=C1C(=O)O',\n 'CC1=CC=C(N)C=C1',\n 'CCCOP1(N)=NP(N)(OCCC)=NP(OCCC)(OCCC)=N1',\n 'CCCOP1(N)=NP(N)(OCCC)=NP(OCCC)(OCCC)=N1',\n 'O=[N+]([O-])C1=CC=CC2=CC=CC=C12',\n 'CC1(C)OC2=CC=C3C(=O)C4=CC=CC=C4C4=CC(C5=CC=CC6=C5C(=O)C5=CC=CC=C5C6=O)=C(C1=O)C2=C34',\n 'O=C(NCCCCCCNC(=O)C1=CC=NC=C1)C1=CC=NC=C1',\n 'FC1=C(F)C(F)=C2C(=C1F)C1=C(F)C(F)=C(F)C(F)=C1C1=C(F)C(F)=C(F)C(F)=C21',\n 'C1=CC=C2C(=C1)C1=CC=CC=C1C1=CC=CC=C21',\n 'O=C(O)C1=CC=CC(C(=O)O)=C1C1=C(C(=O)O)C=CC=C1C(=O)O',\n 'CC1=CC=NC(C)=C1',\n 'CC1=CN=CC(C)=C1',\n 'CC1=CC=CC(C)=N1',\n 'CC1=NNC(C)=C1CC1=C(C)NN=C1C',\n 'C1=CC=C2C(=C1)C(=C1C3=CC=CC=C3C3=CC=CC=C13)C1=CC=CC=C12',\n 'FC1=CC=CC=C1I',\n 'FC1=CC=C(I)C=C1',\n 'FC1=CC=C(I)C(F)=C1',\n 'FC1=CC=C(F)C(I)=C1',\n 'FC1=CC=C(I)C(F)=C1F',\n 'FC1=CC=C(F)C(I)=C1F',\n 'FC1=CC(F)=C(F)C(I)=C1F',\n 'C1=CNN=C1',\n 'C[N+](C)(C)CC(=O)[O-]',\n 'CC(=O)C1CCC2C3CCC4=CC(=O)CCC4(C)C3CCC12C',\n 'OC1=CC=C2C=CC3=CC=CC4=CC=C1C2=C34',\n 'OC1=CC2=CC=CC=C2C2=CC=CC=C12',\n 'CC(=O)C1CCC2C3CC=C4CC(O)CCC4(C)C3CCC12C',\n 'OC1=CC=C2C=CC=CC2=C1',\n 'CC12CCC3C4=CC=C(O)C=C4CCC3C1CCC2O',\n 'CC12CCC3C(CCC4CC(O)CCC43C)C1CCC2=O',\n 'NC1=NC(=O)NC=C1',\n 'OC1=C(O)C(Cl)=C(Cl)C(Cl)=C1Cl',\n 'CCC(C)N',\n 'CC1(C)OC(C(O)(C2=CC=CC=C2)C2=CC=CC=C2)C(C(O)(C2=CC=CC=C2)C2=CC=CC=C2)O1',\n 'CCCC1(O)C(=C2C(=O)C3=CC(C)=CC=C3C2(O)CCC)C(=O)C2=CC(C)=CC=C21',\n 'CCCC1(O)C(=C2C(=O)C3=CC=C(C)C=C3C2(O)CCC)C(=O)C2=CC=C(C)C=C21',\n 'O=C(C1CCCCC1)N1CC(=O)N2CCC3=CC=CC=C3C2C1',\n 'OC1=CC(O)=CC(C2=C3C=CC=CC3=C(C3=CC(O)=CC(O)=C3)C3=CC=CC=C23)=C1',\n 'CC(C)=CCCC(C)CC=O',\n 'COC1=CC=CC=C1OC',\n '[NH3+]C(C(=O)NC(C(=O)[O-])C1=CC=CC=C1)C1=CC=CC2=CC=CC=C12',\n 'NC(=O)C1=CC=CC=N1',\n 'NS(=O)(=O)C1=CC2=C(C=C1Cl)NCNS2(=O)=O',\n 'O=C([O-])C1=[NH+]C=CC=C1',\n 'O=C(O)C1=CC=NC=C1',\n 'CN(C)C1=CC=C(C=CC(=O)C=CC2=CC=CC=C2O)C=C1',\n 'NC1=C(F)C=C(F)C(N)=C1C(F)(F)F',\n 'NC1=NC(N)=C(F)C(Cl)=C1F',\n 'CC1CCC(C(C)C)C(O)C1',\n 'OC1=CC=C(Br)C2=C1C13C4=C(O)C=CC(Br)=C4CC1CCCC3C2',\n 'OC1=CC(C(C2=CC=CC=C2)C2=CC=CC=C2)=C(O)C=C1C(C1=CC=CC=C1)C1=CC=CC=C1',\n 'O=CC1=CC=CC=C1',\n 'CC1=CC=CC=C1C(N)=O',\n 'O=S(CC1=CC=CC=C1)CC1=CC=CC=C1',\n 'CC1=CC=CC(C(N)=O)=C1',\n 'NC(=O)C1=CC=CC=C1Cl',\n 'CC1=CC=C(NC2=[NH+]C=CC=C2C(=O)[O-])C=C1',\n 'O=C1NC(=O)C(Br)=C1Br',\n 'O=C1C2=CC(Br)=CN=C2C2=NC=C(Br)C=C12',\n 'C1C2C3C2C2C1C32',\n 'O=C1NC(=O)C2C3CC(C4N=NN(C5=CC=CC=C5[N+](=O)[O-])C34)C12',\n 'O=C1N=CC2=CC=CC=C12',\n 'N#CC(C#N)=CC1=CC(C=C(C#N)C#N)=CC(C=C(C#N)C#N)=C1',\n 'CC1(C)CC(=NNC2=CC=CC=N2)C(C2C(=NNC3=CC=CC=N3)CC(C)(C)CC2=NNC2=CC=CC=N2)C(=NNC2=CC=CC=N2)C1',\n 'CCCCC1(CCCC)C(=O)NC(=O)NC1=O',\n 'NC(=O)C1=CC=CC=C1',\n 'O=C(O)C1=NN(CC2=CC=C(Cl)C=C2Cl)C2=CC=CC=C12',\n 'O=C(O)C1=CC=CN=C1NC1=CC=CC(C(F)(F)F)=C1',\n 'CC1=CC(C)=NC(NS(=O)(=O)C2=CC=C(N)C=C2)=N1',\n 'O=C(O)C1=CC=CC=C1NC1=CC=CC(C(F)(F)F)=C1',\n 'C1=CC=C(C2=NC(C3=CC=CC=N3)=C(C3=CC=CC=N3)N=C2C2=CC=CC=N2)N=C1',\n 'CC(=O)NC1=NN=C(S(N)(=O)=O)S1',\n 'OC1=CC=C(Cl)C=C1SC1=CC(Cl)=CC=C1O',\n 'CC1(C)CC2(CC(C)(C)C3=CC=C(O)C=C3O2)OC2=CC(O)=CC=C21',\n 'OC1CCN(CC2=CC=CC=C2)C1',\n 'CC1=CC=CC2=C1SC1=C(C)C=CC=C12',\n 'N#CC1=C2C(=CC([N+](=O)[O-])=C1)C(=O)C1=CC([N+](=O)[O-])=CC(C#N)=C12',\n 'CC1=CN=C(N2CCC(C3CCN(C4=CC(C)=NC(C#N)=N4)CC3)CC2)C=N1',\n 'CC1=CC(C)=C(C2(C)CC(C3=CSC(=NN=CC4=CC(Br)=CC=C4O)N3)C2)C(C)=C1',\n 'CC1=CC(C)=C(C2(C)CC(C3=CSC(NN=CC4=CC(Br)=CC=C4O)=N3)C2)C(C)=C1',\n 'C1=CC2C=CC1C2',\n 'OC1=CC=C(C(C2=CC=CC=C2O)C2=CC=CC=C2O)C=C1',\n 'OC1(C2=CC=C(C3=CC=C(C4(O)C5=CC=CC=C5C5=CC=CC=C54)C=C3)C=C2)C2=CC=CC=C2C2=CC=CC=C21',\n 'CCN',\n 'O=C1CCC2N(CC3=CC=CC=C3)CCC12C1=CC=CC=C1',\n 'CC(C=CN1CCCCCC1=O)N1CCCCCC1=O',\n 'NC1=CC=CC(N)=N1',\n 'O=C(C=CC1=CC=CC=C1)C1=CC=CC=C1',\n 'O=C(C=CC1=CC=CC=C1)C=CC1=CC=CC=C1',\n 'OC1=CC(C2=CC=CC=C2)=C(O)C=C1C1=CC=CC=C1',\n 'FC1=C(F)C(F)=C(SSC2=C(F)C(F)=C(F)C(F)=C2F)C(F)=C1F',\n 'O=C(O)CC1=CC=CC(F)=C1',\n 'O=C(O)CC1=CC=C(F)C=C1',\n 'CCC1=NNC(C2=CC=CC=C2)=C1',\n 'CCC1=CC(C2=CC=CC=C2)=NN1',\n 'CCCCCCCCOC1=CC=C(C=CC2=CC=NC=C2)C=C1',\n 'CC(=O)C1=C2C=CC=CC2=CC2=CC=CC=C12',\n 'COC(=O)C1=C2C=CC=CC2=CC2=CC=CC=C12',\n 'O=C(C1=CC=CC=C1)C1C(C2=CC=CC=C2)C(C(=O)C2=CC=CC=C2)C1C1=CC=CC=C1',\n 'O=C=O',\n 'CN1CC2=CC=C(C=C2)CN(C)CC2=CC=C(C=C2)CN(C)CC2=CC=C(C=C2)CN(C)CC2=CC=C(C=C2)C1',\n 'CC(C)=NOC(=O)NC1=CC=CC=C1',\n 'CC(C)N(C(=O)NC1=CC=CC=C1)C(C)C',\n 'CC(C)=CCCC1(C)C(CC=C(C)C)CC2(CC=C(C)C)C(=O)C(CC=C(C)C)=C(O)C1(C(O)C(C)C)C2O',\n 'COC(C)(C)C',\n 'OC1=CC=C(C=CC2=CC(O)=CC(O)=C2)C=C1',\n 'CC1=C(C)[N+]([O-])=C(C)C(C)=[N+]1[O-]',\n 'O=C(CC1CCCN1C(=O)CC1CCCN1C(=O)CC1CCCN1)OCC1=CC=CC=C1',\n 'O=C(O)C1=C(O)C=CC=C1O',\n 'C1=CN=C2C(=C1)C(=C1C3=CC=CN=C3C3=NC=CC=C13)C1=CC=CN=C12',\n 'COC1=CC=CC=C1C=CC(=O)NNC1=CC=NC2=CC(Cl)=CC=C12',\n 'COC1=CC=CC=C1C=CC(=O)NN=C1C=CNC2=CC(Cl)=CC=C12',\n 'CCOC1=CC=CC=C1C(N)=O',\n 'COC1=CC(C=CC(=O)O)=CC(OC)=C1O',\n 'O=C(O)C1=CC=C([N+](=O)[O-])C=C1Cl',\n 'NC(=O)CC(O)C(N)=O',\n 'NC(=O)C(O)C(O)C(N)=O',\n 'CNC(=O)CC(O)C(=O)NC',\n 'CNC(=O)C(O)C(O)C(=O)NC',\n 'CCCCNC(=O)C(O)C(O)C(=O)NCCCC',\n 'CCCCNC(=O)CC(O)C(=O)NCCCC',\n 'NC1=NC(=O)N(C2CC(O)C(CO)O2)C=C1Br',\n 'NC1=NC(O)=C2N=CN(C3CC(O)C(CO)O3)C2=N1',\n 'NC(=O)CCN1C=NC2=C1N=C(N)NC2=O',\n 'CC1=CC([N+](=O)[O-])=CC=C1N',\n 'NC1=CC=CN=C1',\n 'NC(C1=CC=CC=C1)C(N)C1=CC=CC=C1',\n 'O=C(NCC1=CC=CC=N1)C(=O)NCC1=CC=CC=N1',\n 'COC1=CC(O)=CC=C1O',\n 'COC1=CC(=O)C=CC1=O',\n 'NC1CCCCC1N',\n 'O=C(O)C1=CC=C2C=C(C(=O)O)C=CC2=C1',\n 'O=C(O)C1=CC=C(C(=O)O)C2=CC=CC=C12',\n 'NC1CCCCNC1=O',\n 'O=C(O)C1=CC=C2C=CC=CC2=C1O',\n 'CCCCCCCC(=O)O',\n 'O=P([O-])(C[P+](C1=CC=CC=C1)(C1=CC=CC=C1)C1=CC=CC=C1)OC1=CC=CC=C1',\n 'CC(=O)N1N=C(C2=CC=CC=C2)CC1C1=CC=C2C=CC3=CC=CC4=CC=C1C2=C34',\n 'NC1=NC(=O)NC=C1F',\n 'CC(C(=O)[O-])[N+]12CCC(CC1)CC2',\n 'O=C(NC1=C(F)C(F)=C(Br)C(F)=C1F)C1=C(F)C(F)=C(I)C(F)=C1F',\n 'CCOC(=O)CNC(C)=O',\n 'O=C(NC(C1=CC=CC=C1)(C1=CC=CC=C1)C1=CC=CC=C1)NC(C1=CC=CC=C1)(C1=CC=CC=C1)C1=CC=CC=C1',\n 'OC1=C(Cl)C(Cl)=C(Cl)C(Cl)=C1Cl',\n 'CC1=CC=NC=C1C',\n 'CC1=CC=CN=C1C',\n 'CSC1=C(SC)C=C(SC)C(SC)=C1',\n 'CN1CCN(C)C1=O',\n 'O=C(O)C12CC3CC(C1)CC(C(=O)O)(C3)C2',\n 'NC(=O)NC1=CC=CC(Cl)=C1',\n 'O=C1C=C(C2=CC=CC=N2)NC(C2=CC=CC=N2)=C1',\n 'OC1=CC(C2=CC=CC=N2)=NC(C2=CC=CC=N2)=C1',\n 'CC(C)(C)C1=CC(O)=CC=C1O',\n 'CCN1C=C(C(=O)O)C(=O)C2=CC=C(C)N=C21',\n 'CCCOC(=O)C1=CC(O)=C(O)C(O)=C1',\n 'C1=CC=C2NC=CC2=C1',\n 'OC1=CC=CC=C1C1=CC=CC=C1',\n 'COC=C(C(=O)OC)C1=CC=CC=C1OC1=CC(OC2=CC=CC=C2C#N)=NC=N1',\n 'CCOC(=O)C(=O)OCC',\n 'FC1=C(F)C(F)=C(F)C(F)=C1F',\n 'CN(C)C1=CC=CC=C1',\n 'CN(C)C1=CC=C(N)C=C1',\n 'NC1=CC=CC(C(=O)O)=C1N',\n 'NC1=C(C(=O)[O-])C=CC=C1[NH3+]',\n 'CC1=CC=CN=C1N',\n 'CC(=NO)C(=NO)N1C=CC=C(C)C1=O',\n 'FC1=CC=C(F)C=C1',\n 'C1=CC=C2C3=CC=C(C=C3)C3=CC=CC=C3C3=CC=C(C=C3)C3=CC=CC=C3C3=CC=C(C=C3)C3=CC=CC=C3C3=CC=C(C=C3)C2=C1',\n 'CC1=NC=C([N+](=O)[O-])N1CCOC(=O)C1=CC=CC=C1',\n 'COC1=CC=C(C(=O)O)C=C1',\n 'NC1=CC=CC(C(=O)O)=C1',\n 'CCCOC(=O)C12CCC(C(=O)OCCC)(NC1=O)C(=O)N2',\n 'CCOC(=O)C12CCC(C(=O)OCC)(NC1=O)C(=O)N2',\n 'CC1CCC(=O)CC1',\n 'C1=CC2=CN=CC3=CC=C4C=NC=C1C4=C23',\n 'NC1=NNC(C2=CC=CC=C2)=N1',\n 'NC1=NC(C2=CC=CC=C2)=NN1',\n 'N#CC1=C(C#N)C(O)=C(Cl)C(Cl)=C1O',\n 'CC1=NN(C(=C2C=CC(=C(N3N=C(C)C=C3C)N3N=C(C)C=C3C)N2)N2N=C(C)C=C2C)C(C)=C1',\n 'CCCC(=O)NC1=CC=CC(NC(=O)CCC)=N1',\n 'CCC1(C)CC(=O)NC(=O)C1',\n 'CC=C(C)C1CC2C(C)(CC(O)C3C(C)(C)CCC(O)C32C)O1',\n 'CCC(C)C',\n 'CCC1C2=CC(=C(O)C(O)=C2O)C(CC)C2=CC(=C(O)C(O)=C2O)C(CC)C2=CC(=C(O)C(O)=C2O)C(CC)C2=CC1=C(O)C(O)=C2O',\n '[O-]C1=CC=C2C=CC=CC2=C1N=[NH+]C1=CC=CC=N1',\n 'COC1=CC(C=CC2=NNC(C)=C2C)=CC=C1O',\n 'COC1=CC(C=CC2=C(C)C(C)=NN2)=CC=C1O',\n 'COC1=CC=CC(C=[NH+]C2=NC=CC=C2O)=C1[O-]',\n 'NC1=[NH+]C=CC=C1[O-]',\n 'CC1CCCO1',\n 'CC1=CC=CC(C2=NN3CCCC3=C2C2=CC=NC3=CC=C(C(N)=O)C=C23)=N1',\n 'OCC1CCC(CO)CC1',\n 'CC1=CC=C(C2(C)CC(C)(C)C3=CC=C(C)C=C3O2)C(O)=C1',\n 'CC1=CC=C2OC(C)(C3=CC(C)=CC=C3O)CC(C)(C)C2=C1',\n 'CN1CCN(C)CC1',\n 'C1=NC=CC(CN2C=CN=C2C2=NC=CN2CC2=CC=NC=C2)=C1',\n 'C1=CC=C(CN2C=CN=C2C2=NC=CN2CC2=CC=CC=N2)N=C1',\n 'O=C(O)CCCCCC(=O)O',\n 'C1=CC=C(CN2C=CN=C2C2=NC=CN2CC2=CC=CC=C2)C=C1',\n 'CC(C)(C)C1=PC(C2=CC=CC=C2)=NN1',\n 'CC(C)(C)C1=NNC(C2=CC=CC=C2)=P1',\n 'C1=CC=C(C2=PC=NN2)C=C1',\n 'C1=CC=C(C2=NNC=P2)C=C1',\n 'O=C([O-])C[N+]1=CC=CC=C1',\n 'O=C1NC(=O)N(C2CCCO2)C=C1F',\n ...]"
     },
     "execution_count": 11,
     "metadata": {},
     "output_type": "execute_result"
    }
   ]
  },
  {
   "cell_type": "code",
   "execution_count": 12,
   "outputs": [
    {
     "ename": "RuntimeError",
     "evalue": "Attempting to deserialize object on a CUDA device but torch.cuda.is_available() is False. If you are running on a CPU-only machine, please use torch.load with map_location=torch.device('cpu') to map your storages to the CPU.",
     "output_type": "error",
     "traceback": [
      "\u001B[1;31m---------------------------------------------------------------------------\u001B[0m",
      "\u001B[1;31mRuntimeError\u001B[0m                              Traceback (most recent call last)",
      "Cell \u001B[1;32mIn [12], line 5\u001B[0m\n\u001B[0;32m      1\u001B[0m \u001B[38;5;66;03m#загрузка предобученной только на ChemBL генеративной модели и ее дообучение\u001B[39;00m\n\u001B[0;32m      2\u001B[0m \u001B[38;5;66;03m# gan_mol = pi.load(open('weights/gan_mol7_50ksteps_100symb_kekuke.pkl', 'rb'))  # Nina\u001B[39;00m\n\u001B[0;32m      4\u001B[0m gan_mol \u001B[38;5;241m=\u001B[39m MolGen(data\u001B[38;5;241m=\u001B[39mdata, clf_path\u001B[38;5;241m=\u001B[39m\u001B[38;5;124m'\u001B[39m\u001B[38;5;124mweights/clf.pkl\u001B[39m\u001B[38;5;124m'\u001B[39m)\n\u001B[1;32m----> 5\u001B[0m pretrained_model \u001B[38;5;241m=\u001B[39m \u001B[43mpi\u001B[49m\u001B[38;5;241;43m.\u001B[39;49m\u001B[43mload\u001B[49m\u001B[43m(\u001B[49m\u001B[38;5;28;43mopen\u001B[39;49m\u001B[43m(\u001B[49m\u001B[38;5;124;43m'\u001B[39;49m\u001B[38;5;124;43mweights/gan_mol7_50ksteps_100symb_kekuke.pkl\u001B[39;49m\u001B[38;5;124;43m'\u001B[39;49m\u001B[43m,\u001B[49m\u001B[43m \u001B[49m\u001B[38;5;124;43m'\u001B[39;49m\u001B[38;5;124;43mrb\u001B[39;49m\u001B[38;5;124;43m'\u001B[39;49m\u001B[43m)\u001B[49m\u001B[43m)\u001B[49m\n\u001B[0;32m      7\u001B[0m \u001B[38;5;66;03m# загрузчик данных для модели\u001B[39;00m\n\u001B[0;32m      8\u001B[0m loader \u001B[38;5;241m=\u001B[39m gan_mol\u001B[38;5;241m.\u001B[39mcreate_dataloader(data, batch_size\u001B[38;5;241m=\u001B[39m\u001B[38;5;241m20\u001B[39m, shuffle\u001B[38;5;241m=\u001B[39m\u001B[38;5;28;01mTrue\u001B[39;00m, num_workers\u001B[38;5;241m=\u001B[39m\u001B[38;5;241m10\u001B[39m)\n",
      "File \u001B[1;32m~\\miniconda3\\envs\\cheml\\lib\\site-packages\\torch\\storage.py:222\u001B[0m, in \u001B[0;36m_load_from_bytes\u001B[1;34m(b)\u001B[0m\n\u001B[0;32m    221\u001B[0m \u001B[38;5;28;01mdef\u001B[39;00m \u001B[38;5;21m_load_from_bytes\u001B[39m(b):\n\u001B[1;32m--> 222\u001B[0m     \u001B[38;5;28;01mreturn\u001B[39;00m \u001B[43mtorch\u001B[49m\u001B[38;5;241;43m.\u001B[39;49m\u001B[43mload\u001B[49m\u001B[43m(\u001B[49m\u001B[43mio\u001B[49m\u001B[38;5;241;43m.\u001B[39;49m\u001B[43mBytesIO\u001B[49m\u001B[43m(\u001B[49m\u001B[43mb\u001B[49m\u001B[43m)\u001B[49m\u001B[43m)\u001B[49m\n",
      "File \u001B[1;32m~\\miniconda3\\envs\\cheml\\lib\\site-packages\\torch\\serialization.py:713\u001B[0m, in \u001B[0;36mload\u001B[1;34m(f, map_location, pickle_module, **pickle_load_args)\u001B[0m\n\u001B[0;32m    711\u001B[0m             \u001B[38;5;28;01mreturn\u001B[39;00m torch\u001B[38;5;241m.\u001B[39mjit\u001B[38;5;241m.\u001B[39mload(opened_file)\n\u001B[0;32m    712\u001B[0m         \u001B[38;5;28;01mreturn\u001B[39;00m _load(opened_zipfile, map_location, pickle_module, \u001B[38;5;241m*\u001B[39m\u001B[38;5;241m*\u001B[39mpickle_load_args)\n\u001B[1;32m--> 713\u001B[0m \u001B[38;5;28;01mreturn\u001B[39;00m \u001B[43m_legacy_load\u001B[49m\u001B[43m(\u001B[49m\u001B[43mopened_file\u001B[49m\u001B[43m,\u001B[49m\u001B[43m \u001B[49m\u001B[43mmap_location\u001B[49m\u001B[43m,\u001B[49m\u001B[43m \u001B[49m\u001B[43mpickle_module\u001B[49m\u001B[43m,\u001B[49m\u001B[43m \u001B[49m\u001B[38;5;241;43m*\u001B[39;49m\u001B[38;5;241;43m*\u001B[39;49m\u001B[43mpickle_load_args\u001B[49m\u001B[43m)\u001B[49m\n",
      "File \u001B[1;32m~\\miniconda3\\envs\\cheml\\lib\\site-packages\\torch\\serialization.py:930\u001B[0m, in \u001B[0;36m_legacy_load\u001B[1;34m(f, map_location, pickle_module, **pickle_load_args)\u001B[0m\n\u001B[0;32m    928\u001B[0m unpickler \u001B[38;5;241m=\u001B[39m UnpicklerWrapper(f, \u001B[38;5;241m*\u001B[39m\u001B[38;5;241m*\u001B[39mpickle_load_args)\n\u001B[0;32m    929\u001B[0m unpickler\u001B[38;5;241m.\u001B[39mpersistent_load \u001B[38;5;241m=\u001B[39m persistent_load\n\u001B[1;32m--> 930\u001B[0m result \u001B[38;5;241m=\u001B[39m \u001B[43munpickler\u001B[49m\u001B[38;5;241;43m.\u001B[39;49m\u001B[43mload\u001B[49m\u001B[43m(\u001B[49m\u001B[43m)\u001B[49m\n\u001B[0;32m    932\u001B[0m deserialized_storage_keys \u001B[38;5;241m=\u001B[39m pickle_module\u001B[38;5;241m.\u001B[39mload(f, \u001B[38;5;241m*\u001B[39m\u001B[38;5;241m*\u001B[39mpickle_load_args)\n\u001B[0;32m    934\u001B[0m offset \u001B[38;5;241m=\u001B[39m f\u001B[38;5;241m.\u001B[39mtell() \u001B[38;5;28;01mif\u001B[39;00m f_should_read_directly \u001B[38;5;28;01melse\u001B[39;00m \u001B[38;5;28;01mNone\u001B[39;00m\n",
      "File \u001B[1;32m~\\miniconda3\\envs\\cheml\\lib\\site-packages\\torch\\serialization.py:876\u001B[0m, in \u001B[0;36m_legacy_load.<locals>.persistent_load\u001B[1;34m(saved_id)\u001B[0m\n\u001B[0;32m    872\u001B[0m     obj\u001B[38;5;241m.\u001B[39m_torch_load_uninitialized \u001B[38;5;241m=\u001B[39m \u001B[38;5;28;01mTrue\u001B[39;00m\n\u001B[0;32m    873\u001B[0m     \u001B[38;5;66;03m# TODO: Once we decide to break serialization FC, we can\u001B[39;00m\n\u001B[0;32m    874\u001B[0m     \u001B[38;5;66;03m# stop wrapping with _TypedStorage\u001B[39;00m\n\u001B[0;32m    875\u001B[0m     deserialized_objects[root_key] \u001B[38;5;241m=\u001B[39m torch\u001B[38;5;241m.\u001B[39mstorage\u001B[38;5;241m.\u001B[39m_TypedStorage(\n\u001B[1;32m--> 876\u001B[0m         wrap_storage\u001B[38;5;241m=\u001B[39m\u001B[43mrestore_location\u001B[49m\u001B[43m(\u001B[49m\u001B[43mobj\u001B[49m\u001B[43m,\u001B[49m\u001B[43m \u001B[49m\u001B[43mlocation\u001B[49m\u001B[43m)\u001B[49m,\n\u001B[0;32m    877\u001B[0m         dtype\u001B[38;5;241m=\u001B[39mdtype)\n\u001B[0;32m    879\u001B[0m typed_storage \u001B[38;5;241m=\u001B[39m deserialized_objects[root_key]\n\u001B[0;32m    880\u001B[0m \u001B[38;5;28;01mif\u001B[39;00m view_metadata \u001B[38;5;129;01mis\u001B[39;00m \u001B[38;5;129;01mnot\u001B[39;00m \u001B[38;5;28;01mNone\u001B[39;00m:\n",
      "File \u001B[1;32m~\\miniconda3\\envs\\cheml\\lib\\site-packages\\torch\\serialization.py:175\u001B[0m, in \u001B[0;36mdefault_restore_location\u001B[1;34m(storage, location)\u001B[0m\n\u001B[0;32m    173\u001B[0m \u001B[38;5;28;01mdef\u001B[39;00m \u001B[38;5;21mdefault_restore_location\u001B[39m(storage, location):\n\u001B[0;32m    174\u001B[0m     \u001B[38;5;28;01mfor\u001B[39;00m _, _, fn \u001B[38;5;129;01min\u001B[39;00m _package_registry:\n\u001B[1;32m--> 175\u001B[0m         result \u001B[38;5;241m=\u001B[39m \u001B[43mfn\u001B[49m\u001B[43m(\u001B[49m\u001B[43mstorage\u001B[49m\u001B[43m,\u001B[49m\u001B[43m \u001B[49m\u001B[43mlocation\u001B[49m\u001B[43m)\u001B[49m\n\u001B[0;32m    176\u001B[0m         \u001B[38;5;28;01mif\u001B[39;00m result \u001B[38;5;129;01mis\u001B[39;00m \u001B[38;5;129;01mnot\u001B[39;00m \u001B[38;5;28;01mNone\u001B[39;00m:\n\u001B[0;32m    177\u001B[0m             \u001B[38;5;28;01mreturn\u001B[39;00m result\n",
      "File \u001B[1;32m~\\miniconda3\\envs\\cheml\\lib\\site-packages\\torch\\serialization.py:152\u001B[0m, in \u001B[0;36m_cuda_deserialize\u001B[1;34m(obj, location)\u001B[0m\n\u001B[0;32m    150\u001B[0m \u001B[38;5;28;01mdef\u001B[39;00m \u001B[38;5;21m_cuda_deserialize\u001B[39m(obj, location):\n\u001B[0;32m    151\u001B[0m     \u001B[38;5;28;01mif\u001B[39;00m location\u001B[38;5;241m.\u001B[39mstartswith(\u001B[38;5;124m'\u001B[39m\u001B[38;5;124mcuda\u001B[39m\u001B[38;5;124m'\u001B[39m):\n\u001B[1;32m--> 152\u001B[0m         device \u001B[38;5;241m=\u001B[39m \u001B[43mvalidate_cuda_device\u001B[49m\u001B[43m(\u001B[49m\u001B[43mlocation\u001B[49m\u001B[43m)\u001B[49m\n\u001B[0;32m    153\u001B[0m         \u001B[38;5;28;01mif\u001B[39;00m \u001B[38;5;28mgetattr\u001B[39m(obj, \u001B[38;5;124m\"\u001B[39m\u001B[38;5;124m_torch_load_uninitialized\u001B[39m\u001B[38;5;124m\"\u001B[39m, \u001B[38;5;28;01mFalse\u001B[39;00m):\n\u001B[0;32m    154\u001B[0m             \u001B[38;5;28;01mwith\u001B[39;00m torch\u001B[38;5;241m.\u001B[39mcuda\u001B[38;5;241m.\u001B[39mdevice(device):\n",
      "File \u001B[1;32m~\\miniconda3\\envs\\cheml\\lib\\site-packages\\torch\\serialization.py:136\u001B[0m, in \u001B[0;36mvalidate_cuda_device\u001B[1;34m(location)\u001B[0m\n\u001B[0;32m    133\u001B[0m device \u001B[38;5;241m=\u001B[39m torch\u001B[38;5;241m.\u001B[39mcuda\u001B[38;5;241m.\u001B[39m_utils\u001B[38;5;241m.\u001B[39m_get_device_index(location, \u001B[38;5;28;01mTrue\u001B[39;00m)\n\u001B[0;32m    135\u001B[0m \u001B[38;5;28;01mif\u001B[39;00m \u001B[38;5;129;01mnot\u001B[39;00m torch\u001B[38;5;241m.\u001B[39mcuda\u001B[38;5;241m.\u001B[39mis_available():\n\u001B[1;32m--> 136\u001B[0m     \u001B[38;5;28;01mraise\u001B[39;00m \u001B[38;5;167;01mRuntimeError\u001B[39;00m(\u001B[38;5;124m'\u001B[39m\u001B[38;5;124mAttempting to deserialize object on a CUDA \u001B[39m\u001B[38;5;124m'\u001B[39m\n\u001B[0;32m    137\u001B[0m                        \u001B[38;5;124m'\u001B[39m\u001B[38;5;124mdevice but torch.cuda.is_available() is False. \u001B[39m\u001B[38;5;124m'\u001B[39m\n\u001B[0;32m    138\u001B[0m                        \u001B[38;5;124m'\u001B[39m\u001B[38;5;124mIf you are running on a CPU-only machine, \u001B[39m\u001B[38;5;124m'\u001B[39m\n\u001B[0;32m    139\u001B[0m                        \u001B[38;5;124m'\u001B[39m\u001B[38;5;124mplease use torch.load with map_location=torch.device(\u001B[39m\u001B[38;5;130;01m\\'\u001B[39;00m\u001B[38;5;124mcpu\u001B[39m\u001B[38;5;130;01m\\'\u001B[39;00m\u001B[38;5;124m) \u001B[39m\u001B[38;5;124m'\u001B[39m\n\u001B[0;32m    140\u001B[0m                        \u001B[38;5;124m'\u001B[39m\u001B[38;5;124mto map your storages to the CPU.\u001B[39m\u001B[38;5;124m'\u001B[39m)\n\u001B[0;32m    141\u001B[0m device_count \u001B[38;5;241m=\u001B[39m torch\u001B[38;5;241m.\u001B[39mcuda\u001B[38;5;241m.\u001B[39mdevice_count()\n\u001B[0;32m    142\u001B[0m \u001B[38;5;28;01mif\u001B[39;00m device \u001B[38;5;241m>\u001B[39m\u001B[38;5;241m=\u001B[39m device_count:\n",
      "\u001B[1;31mRuntimeError\u001B[0m: Attempting to deserialize object on a CUDA device but torch.cuda.is_available() is False. If you are running on a CPU-only machine, please use torch.load with map_location=torch.device('cpu') to map your storages to the CPU."
     ]
    }
   ],
   "source": [
    "#загрузка предобученной только на ChemBL генеративной модели и ее дообучение\n",
    "# gan_mol = pi.load(open('weights/gan_mol7_50ksteps_100symb_kekuke.pkl', 'rb'))  # Nina\n",
    "\n",
    "gan_mol = MolGen(data=data, clf_path='weights/clf.pkl')\n",
    "pretrained_model = pi.load(open('weights/gan_mol7_50ksteps_100symb_kekuke.pkl', 'rb'))\n",
    "\n",
    "# загрузчик данных для модели\n",
    "loader = gan_mol.create_dataloader(data, batch_size=20, shuffle=True, num_workers=10)"
   ],
   "metadata": {
    "id": "wzjz-Fw9SH7j"
   }
  },
  {
   "cell_type": "code",
   "source": [
    "pretrained_model.parameters"
   ],
   "metadata": {
    "colab": {
     "base_uri": "https://localhost:8080/"
    },
    "id": "XwNh01wpWcxO",
    "outputId": "3441e6f4-8c82-4913-9bda-6bf4ec7511b2"
   },
   "execution_count": null,
   "outputs": []
  },
  {
   "cell_type": "code",
   "execution_count": null,
   "metadata": {
    "id": "EwklxOX8hwOj",
    "colab": {
     "base_uri": "https://localhost:8080/"
    },
    "outputId": "53d55925-de4f-4e77-8a22-0823be72ddba"
   },
   "outputs": [],
   "source": [
    "# train model for 10000 steps\n",
    "pretrained_model.train()"
   ]
  },
  {
   "cell_type": "code",
   "source": [
    "torch.cuda.current_device()"
   ],
   "metadata": {
    "colab": {
     "base_uri": "https://localhost:8080/"
    },
    "id": "1wkIZz9NscUe",
    "outputId": "73d0d6bc-3659-443f-8d72-3ab37badba8d"
   },
   "execution_count": null,
   "outputs": []
  },
  {
   "cell_type": "code",
   "source": [
    "torch.cuda.device(0)"
   ],
   "metadata": {
    "colab": {
     "base_uri": "https://localhost:8080/"
    },
    "id": "J2OrJSlosiSk",
    "outputId": "fd79d42a-1f5f-4767-832f-74f166eb76fb"
   },
   "execution_count": null,
   "outputs": []
  },
  {
   "cell_type": "code",
   "source": [
    "torch.cuda.device_count()"
   ],
   "metadata": {
    "colab": {
     "base_uri": "https://localhost:8080/"
    },
    "id": "ITH1XY8lsmRO",
    "outputId": "43ecca40-fcca-4b99-aedc-470dfd2789e6"
   },
   "execution_count": null,
   "outputs": []
  },
  {
   "cell_type": "code",
   "source": [
    "torch.cuda.get_device_name(0)"
   ],
   "metadata": {
    "colab": {
     "base_uri": "https://localhost:8080/",
     "height": 36
    },
    "id": "XqxFYD3csphe",
    "outputId": "8f3005aa-2ee7-4429-e848-d0d41a6baf0d"
   },
   "execution_count": 14,
   "outputs": [
    {
     "ename": "AssertionError",
     "evalue": "Torch not compiled with CUDA enabled",
     "output_type": "error",
     "traceback": [
      "\u001B[1;31m---------------------------------------------------------------------------\u001B[0m",
      "\u001B[1;31mAssertionError\u001B[0m                            Traceback (most recent call last)",
      "Cell \u001B[1;32mIn [14], line 1\u001B[0m\n\u001B[1;32m----> 1\u001B[0m \u001B[43mtorch\u001B[49m\u001B[38;5;241;43m.\u001B[39;49m\u001B[43mcuda\u001B[49m\u001B[38;5;241;43m.\u001B[39;49m\u001B[43mget_device_name\u001B[49m\u001B[43m(\u001B[49m\u001B[38;5;241;43m0\u001B[39;49m\u001B[43m)\u001B[49m\n",
      "File \u001B[1;32m~\\miniconda3\\envs\\cheml\\lib\\site-packages\\torch\\cuda\\__init__.py:329\u001B[0m, in \u001B[0;36mget_device_name\u001B[1;34m(device)\u001B[0m\n\u001B[0;32m    317\u001B[0m \u001B[38;5;28;01mdef\u001B[39;00m \u001B[38;5;21mget_device_name\u001B[39m(device: Optional[_device_t] \u001B[38;5;241m=\u001B[39m \u001B[38;5;28;01mNone\u001B[39;00m) \u001B[38;5;241m-\u001B[39m\u001B[38;5;241m>\u001B[39m \u001B[38;5;28mstr\u001B[39m:\n\u001B[0;32m    318\u001B[0m     \u001B[38;5;124mr\u001B[39m\u001B[38;5;124;03m\"\"\"Gets the name of a device.\u001B[39;00m\n\u001B[0;32m    319\u001B[0m \n\u001B[0;32m    320\u001B[0m \u001B[38;5;124;03m    Args:\u001B[39;00m\n\u001B[1;32m   (...)\u001B[0m\n\u001B[0;32m    327\u001B[0m \u001B[38;5;124;03m        str: the name of the device\u001B[39;00m\n\u001B[0;32m    328\u001B[0m \u001B[38;5;124;03m    \"\"\"\u001B[39;00m\n\u001B[1;32m--> 329\u001B[0m     \u001B[38;5;28;01mreturn\u001B[39;00m \u001B[43mget_device_properties\u001B[49m\u001B[43m(\u001B[49m\u001B[43mdevice\u001B[49m\u001B[43m)\u001B[49m\u001B[38;5;241m.\u001B[39mname\n",
      "File \u001B[1;32m~\\miniconda3\\envs\\cheml\\lib\\site-packages\\torch\\cuda\\__init__.py:359\u001B[0m, in \u001B[0;36mget_device_properties\u001B[1;34m(device)\u001B[0m\n\u001B[0;32m    349\u001B[0m \u001B[38;5;28;01mdef\u001B[39;00m \u001B[38;5;21mget_device_properties\u001B[39m(device: _device_t) \u001B[38;5;241m-\u001B[39m\u001B[38;5;241m>\u001B[39m _CudaDeviceProperties:\n\u001B[0;32m    350\u001B[0m     \u001B[38;5;124mr\u001B[39m\u001B[38;5;124;03m\"\"\"Gets the properties of a device.\u001B[39;00m\n\u001B[0;32m    351\u001B[0m \n\u001B[0;32m    352\u001B[0m \u001B[38;5;124;03m    Args:\u001B[39;00m\n\u001B[1;32m   (...)\u001B[0m\n\u001B[0;32m    357\u001B[0m \u001B[38;5;124;03m        _CudaDeviceProperties: the properties of the device\u001B[39;00m\n\u001B[0;32m    358\u001B[0m \u001B[38;5;124;03m    \"\"\"\u001B[39;00m\n\u001B[1;32m--> 359\u001B[0m     \u001B[43m_lazy_init\u001B[49m\u001B[43m(\u001B[49m\u001B[43m)\u001B[49m  \u001B[38;5;66;03m# will define _get_device_properties\u001B[39;00m\n\u001B[0;32m    360\u001B[0m     device \u001B[38;5;241m=\u001B[39m _get_device_index(device, optional\u001B[38;5;241m=\u001B[39m\u001B[38;5;28;01mTrue\u001B[39;00m)\n\u001B[0;32m    361\u001B[0m     \u001B[38;5;28;01mif\u001B[39;00m device \u001B[38;5;241m<\u001B[39m \u001B[38;5;241m0\u001B[39m \u001B[38;5;129;01mor\u001B[39;00m device \u001B[38;5;241m>\u001B[39m\u001B[38;5;241m=\u001B[39m device_count():\n",
      "File \u001B[1;32m~\\miniconda3\\envs\\cheml\\lib\\site-packages\\torch\\cuda\\__init__.py:211\u001B[0m, in \u001B[0;36m_lazy_init\u001B[1;34m()\u001B[0m\n\u001B[0;32m    207\u001B[0m     \u001B[38;5;28;01mraise\u001B[39;00m \u001B[38;5;167;01mRuntimeError\u001B[39;00m(\n\u001B[0;32m    208\u001B[0m         \u001B[38;5;124m\"\u001B[39m\u001B[38;5;124mCannot re-initialize CUDA in forked subprocess. To use CUDA with \u001B[39m\u001B[38;5;124m\"\u001B[39m\n\u001B[0;32m    209\u001B[0m         \u001B[38;5;124m\"\u001B[39m\u001B[38;5;124mmultiprocessing, you must use the \u001B[39m\u001B[38;5;124m'\u001B[39m\u001B[38;5;124mspawn\u001B[39m\u001B[38;5;124m'\u001B[39m\u001B[38;5;124m start method\u001B[39m\u001B[38;5;124m\"\u001B[39m)\n\u001B[0;32m    210\u001B[0m \u001B[38;5;28;01mif\u001B[39;00m \u001B[38;5;129;01mnot\u001B[39;00m \u001B[38;5;28mhasattr\u001B[39m(torch\u001B[38;5;241m.\u001B[39m_C, \u001B[38;5;124m'\u001B[39m\u001B[38;5;124m_cuda_getDeviceCount\u001B[39m\u001B[38;5;124m'\u001B[39m):\n\u001B[1;32m--> 211\u001B[0m     \u001B[38;5;28;01mraise\u001B[39;00m \u001B[38;5;167;01mAssertionError\u001B[39;00m(\u001B[38;5;124m\"\u001B[39m\u001B[38;5;124mTorch not compiled with CUDA enabled\u001B[39m\u001B[38;5;124m\"\u001B[39m)\n\u001B[0;32m    212\u001B[0m \u001B[38;5;28;01mif\u001B[39;00m _cudart \u001B[38;5;129;01mis\u001B[39;00m \u001B[38;5;28;01mNone\u001B[39;00m:\n\u001B[0;32m    213\u001B[0m     \u001B[38;5;28;01mraise\u001B[39;00m \u001B[38;5;167;01mAssertionError\u001B[39;00m(\n\u001B[0;32m    214\u001B[0m         \u001B[38;5;124m\"\u001B[39m\u001B[38;5;124mlibcudart functions unavailable. It looks like you have a broken build?\u001B[39m\u001B[38;5;124m\"\u001B[39m)\n",
      "\u001B[1;31mAssertionError\u001B[0m: Torch not compiled with CUDA enabled"
     ]
    }
   ]
  },
  {
   "cell_type": "code",
   "source": [
    "torch.cuda.is_available()"
   ],
   "metadata": {
    "colab": {
     "base_uri": "https://localhost:8080/"
    },
    "id": "LqIm1mn6srxy",
    "outputId": "95ff1d9e-e1f6-46bf-bcc4-2ca1cd65b084"
   },
   "execution_count": 13,
   "outputs": [
    {
     "data": {
      "text/plain": "False"
     },
     "execution_count": 13,
     "metadata": {},
     "output_type": "execute_result"
    }
   ]
  },
  {
   "cell_type": "code",
   "source": [
    "torch._C._cuda_getCompiledVersion()"
   ],
   "metadata": {
    "colab": {
     "base_uri": "https://localhost:8080/"
    },
    "id": "f-xJgtxdzlSP",
    "outputId": "86b79f6a-44cb-44c8-bcb9-af085f2de9e2"
   },
   "execution_count": null,
   "outputs": []
  },
  {
   "cell_type": "code",
   "execution_count": null,
   "metadata": {
    "id": "kLyRWJjUxN5a",
    "colab": {
     "base_uri": "https://localhost:8080/",
     "height": 415
    },
    "outputId": "f2df2966-6ff7-40fc-b1bf-c8fb84514c61"
   },
   "outputs": [],
   "source": [
    "import warnings #возникает одна и та же ошибка\n",
    "warnings.filterwarnings('ignore')\n",
    "\n",
    "training_steps = 1000\n",
    "cofomers_training_history = pretrained_model.train_n_steps(loader, max_step=training_steps, evaluate_every=10)"
   ]
  },
  {
   "cell_type": "markdown",
   "metadata": {
    "id": "W74j03r8SWj_"
   },
   "source": [
    "### График измененеие clf loss в процессе обучения"
   ]
  },
  {
   "cell_type": "code",
   "execution_count": null,
   "metadata": {
    "id": "noi90P1GTUsx"
   },
   "outputs": [],
   "source": [
    "import matplotlib.pyplot as plt\n",
    "%matplotlib inline"
   ]
  },
  {
   "cell_type": "code",
   "execution_count": null,
   "outputs": [],
   "source": [
    "x1 = np.arange(training_steps)\n",
    "x2 = np.arange(training_steps)\n",
    "\n",
    "# clf_loss_chembl = chembl_training_history['classifier_loss']\n",
    "clf_loss_cofomers = cofomers_training_history['classifier_loss']"
   ],
   "metadata": {
    "id": "5j240ytzSH7m"
   }
  },
  {
   "cell_type": "code",
   "execution_count": null,
   "outputs": [],
   "source": [
    "# пока чтобы просто работало, потому что метрики первого обучения не вытащить, судя по всему\n",
    "clf_loss_chembl = np.sqrt(\n",
    "  np.array(\n",
    "  [0.6666666666666666, 0.618421052631579, 0.5135135135135135, 0.4050632911392405, 0.3, 0.34285714285714286, 0.2875, 0.23333333333333334, 0.4574468085106383, 0.5157894736842106, 0.7065217391304348, 0.5952380952380952, 0.5909090909090909, 0.5, 0.4878048780487805, 0.36764705882352944, 0.2830188679245283, 0.375, 0.44, 0.3220338983050847, 0.475, 0.7755102040816326, 0.7727272727272727, 0.66, 0.6428571428571429, 0.48214285714285715, 0.48333333333333334, 0.5625, 0.4069767441860465, 0.4090909090909091, 0.38372093023255816, 0.4880952380952381, 0.5116279069767442, 0.49333333333333335, 0.5945945945945946, 0.3977272727272727, 0.32222222222222224, 0.3333333333333333, 0.3522727272727273, 0.36046511627906974, 0.4431818181818182, 0.38095238095238093, 0.47674418604651164, 0.5851063829787234, 0.6222222222222222, 0.627906976744186, 0.7228915662650602, 0.6046511627906976, 0.6951219512195121, 0.7333333333333333, 0.6477272727272727, 0.7439024390243902, 0.5444444444444444, 0.7093023255813954, 0.5, 0.5, 0.44047619047619047, 0.5227272727272727, 0.40789473684210525, 0.34146341463414637, 0.45555555555555555, 0.4090909090909091, 0.4714285714285714, 0.48717948717948717, 0.5972222222222222, 0.4594594594594595, 0.5294117647058824, 0.5735294117647058, 0.5384615384615384, 0.47560975609756095, 0.4367816091954023, 0.5217391304347826, 0.4186046511627907, 0.36585365853658536, 0.4230769230769231, 0.46153846153846156, 0.47619047619047616, 0.4868421052631579, 0.5606060606060606, 0.5714285714285714, 0.4166666666666667, 0.5217391304347826, 0.38823529411764707, 0.3333333333333333, 0.4186046511627907, 0.43617021276595747, 0.36666666666666664, 0.40476190476190477, 0.45555555555555555, 0.5977011494252874, 0.46987951807228917, 0.4148936170212766, 0.4418604651162791, 0.36666666666666664, 0.3953488372093023, 0.38372093023255816, 0.5760869565217391, 0.47, 0.5416666666666666, 0.4791666666666667]\n",
    ")\n",
    ")"
   ],
   "metadata": {
    "id": "XjEGrrr1SH7m"
   }
  },
  {
   "cell_type": "code",
   "execution_count": null,
   "metadata": {
    "id": "EoNPydhaTjlL"
   },
   "outputs": [],
   "source": [
    "# построение графика\n",
    "plt.figure(figsize=(15,10))\n",
    "plt.plot(x1, clf_loss_cofomers, label = \"Предобученная на коформерах модель\")\n",
    "plt.plot(x2, clf_loss_chembl, label = \"Предобученной только на ChemBL модель\")\n",
    "plt.title('Изменение clf loss в процессе обучения')\n",
    "plt.xlabel('Итерация обучения')\n",
    "plt.ylabel('clf loss mean')\n",
    "plt.legend()\n",
    "plt.show()"
   ]
  },
  {
   "cell_type": "code",
   "execution_count": null,
   "outputs": [],
   "source": [
    "# discriminator + generator loss plot\n",
    "x = np.arange(training_steps)\n",
    "discr_loss = cofomers_training_history['discriminator_loss']\n",
    "gen_loss = cofomers_training_history['generator_loss']\n",
    "plt.plot(x, discr_loss, label='Discriminator loss')\n",
    "plt.plot(x, gen_loss, label='Generator loss')\n",
    "plt.title('GAN metrics during training')\n",
    "plt.xlabel('Steps')\n",
    "plt.ylabel('Mean loss')"
   ],
   "metadata": {
    "id": "AnL1i3OvSH7n"
   }
  },
  {
   "cell_type": "code",
   "execution_count": null,
   "outputs": [],
   "source": [
    "# discriminator + generator + classifier loss plot\n",
    "x = np.arange(training_steps)\n",
    "discr_loss = cofomers_training_history['discriminator_loss']\n",
    "gen_loss = cofomers_training_history['generator_loss']\n",
    "classifier_loss = cofomers_training_history['classifier_loss']\n",
    "plt.plot(x, discr_loss, label='Discriminator loss')\n",
    "plt.plot(x, gen_loss, label='Generator loss')\n",
    "plt.plot(x, classifier_loss, label='Classifier loss')\n",
    "plt.title('GAN and classifier metrics during training')\n",
    "plt.xlabel('Steps')\n",
    "plt.ylabel('Mean loss')"
   ],
   "metadata": {
    "id": "-rAeL1gvSH7o"
   }
  }
 ],
 "metadata": {
  "colab": {
   "provenance": []
  },
  "gpuClass": "premium",
  "kernelspec": {
   "display_name": "Python 3",
   "name": "python3"
  },
  "language_info": {
   "name": "python"
  },
  "accelerator": "GPU"
 },
 "nbformat": 4,
 "nbformat_minor": 0
}
